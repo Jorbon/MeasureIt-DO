{
 "cells": [
  {
   "cell_type": "code",
   "execution_count": 1,
   "metadata": {},
   "outputs": [],
   "source": [
    "from threaded_sweep import Sweep1D, Sweep0D, Sweep2D, SweepQueue\n",
    "from daq_driver import Daq, DaqAOChannel, DaqAIChannel\n",
    "import nidaqmx\n",
    "import time\n",
    "import numpy as np\n",
    "import qcodes as qc\n",
    "from util import set_experiment_sample_names\n",
    "from tracking import *\n",
    "from qcodes.dataset.measurements import Measurement\n",
    "from qcodes.dataset.database import initialise_or_create_database_at\n",
    "from qcodes.dataset.data_export import get_data_by_id\n",
    "from qcodes.instrument_drivers.Lakeshore.Model_372 import Model_372\n",
    "from qcodes.instrument_drivers.american_magnetics.AMI430 import AMI430\n",
    "from qcodes.instrument_drivers.stanford_research.SR860 import SR860"
   ]
  },
  {
   "cell_type": "code",
   "execution_count": 2,
   "metadata": {},
   "outputs": [],
   "source": [
    "daq = Daq(\"Dev1\", \"Daq\")"
   ]
  },
  {
   "cell_type": "code",
   "execution_count": 8,
   "metadata": {},
   "outputs": [],
   "source": [
    "sq = SweepQueue(inter_delay = 3)\n",
    "sq.load_database_info(['qs1', 'qs2'],['exp1', 'exp2'],['sample1', 'sample2'])"
   ]
  },
  {
   "cell_type": "code",
   "execution_count": 9,
   "metadata": {},
   "outputs": [],
   "source": [
    "s1 = Sweep1D(daq.ao0.voltage, 0, 2, 0.05, inter_delay = 0.1, bidirectional = False, save_data = True, \n",
    "            plot_data = True, x_axis_time = 1)\n",
    "s1.follow_param(daq.ai0.voltage, daq.ai1.voltage)"
   ]
  },
  {
   "cell_type": "code",
   "execution_count": 10,
   "metadata": {},
   "outputs": [],
   "source": [
    "s2 = Sweep1D(daq.ao1.voltage, 0, 1, 0.05, inter_delay = 0.1, bidirectional = True, save_data = True, \n",
    "            plot_data = True, x_axis_time = 0)\n",
    "s2.follow_param(daq.ai1.voltage)"
   ]
  },
  {
   "cell_type": "code",
   "execution_count": 11,
   "metadata": {},
   "outputs": [],
   "source": [
    "sq.append(s1, s2)"
   ]
  },
  {
   "cell_type": "code",
   "execution_count": 12,
   "metadata": {},
   "outputs": [
    {
     "name": "stdout",
     "output_type": "stream",
     "text": [
      "Starting sweeps\n"
     ]
    },
    {
     "name": "stderr",
     "output_type": "stream",
     "text": [
      "Upgrading database: : 0it [00:00, ?it/s]\n"
     ]
    },
    {
     "name": "stdout",
     "output_type": "stream",
     "text": [
      "Starting sweep of ao0 Voltage from 0               V to 2 V\n",
      "Ramping to our starting setpoint value of 0 V\n",
      "Sweeping ao0 Voltage to 0 V\n",
      "Ramping ao0 Voltage to 0 . . . \n",
      "Done with the sweep, ao0 Voltage=-3.191891195797325e-16\n",
      "Done ramping ao0 Voltage to 0\n",
      "Sweeping ao0 Voltage to 2 V\n",
      "Starting experimental run with id: 1\n",
      "Done with the sweep, ao0 Voltage=2.000000000000001\n",
      "Finished sweep of ao0 Voltage from 2               V to 0 V\n"
     ]
    },
    {
     "name": "stderr",
     "output_type": "stream",
     "text": [
      "Upgrading database: : 0it [00:00, ?it/s]\n"
     ]
    },
    {
     "name": "stdout",
     "output_type": "stream",
     "text": [
      "Starting sweep of ao1 Voltage from 0                   V to 1 V\n",
      "Ramping to our starting setpoint value of 0 V\n",
      "Done ramping ao1 Voltage to 0\n",
      "Sweeping ao1 Voltage to 1 V\n",
      "Starting experimental run with id: 1\n",
      "Done with the sweep, ao1 Voltage=-9.71445146547012e-17\n",
      "Finished sweep of ao1 Voltage from 0               V to 1 V\n",
      "Finished all sweeps!\n"
     ]
    }
   ],
   "source": [
    "%matplotlib qt\n",
    "sq.start()"
   ]
  },
  {
   "cell_type": "code",
   "execution_count": null,
   "metadata": {},
   "outputs": [],
   "source": []
  }
 ],
 "metadata": {
  "kernelspec": {
   "display_name": "Python 3",
   "language": "python",
   "name": "python3"
  },
  "language_info": {
   "codemirror_mode": {
    "name": "ipython",
    "version": 3
   },
   "file_extension": ".py",
   "mimetype": "text/x-python",
   "name": "python",
   "nbconvert_exporter": "python",
   "pygments_lexer": "ipython3",
   "version": "3.6.8"
  }
 },
 "nbformat": 4,
 "nbformat_minor": 2
}
