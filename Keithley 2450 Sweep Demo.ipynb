{
 "cells": [
  {
   "cell_type": "markdown",
   "metadata": {},
   "source": [
    "This notebook sweeps the SMU Keithley 2450, based on Joe's dummy instruments demo"
   ]
  },
  {
   "cell_type": "code",
   "execution_count": 1,
   "metadata": {},
   "outputs": [],
   "source": [
    "import time\n",
    "import numpy as np\n",
    "import qcodes as qc\n",
    "from qcodes.dataset.measurements import Measurement\n",
    "from qcodes.instrument_drivers.tektronix.Keithley_2450 import Keithley_2450\n",
    "from qcodes.tests.instrument_mocks import DummyInstrument\n",
    "from qcodes.dataset.database import initialise_or_create_database_at"
   ]
  },
  {
   "cell_type": "markdown",
   "metadata": {},
   "source": [
    "Now we will create an instance of the class Keithley"
   ]
  },
  {
   "cell_type": "code",
   "execution_count": 2,
   "metadata": {},
   "outputs": [],
   "source": [
    "Keith = Keithley_2450('Keith', 'USB0::0x05E6::0x2450::04358606::INSTR')"
   ]
  },
  {
   "cell_type": "markdown",
   "metadata": {},
   "source": [
    "First a test to see that the Keithley 2450 works"
   ]
  },
  {
   "cell_type": "code",
   "execution_count": 6,
   "metadata": {
    "scrolled": true
   },
   "outputs": [
    {
     "name": "stdout",
     "output_type": "stream",
     "text": [
      "2.581466E-12\n"
     ]
    }
   ],
   "source": [
    "Keith.rangev(20)\n",
    "Keith.volt(1)\n",
    "c=Keith.curr()\n",
    "#x=Keith.sense()"
   ]
  },
  {
   "cell_type": "code",
   "execution_count": 7,
   "metadata": {},
   "outputs": [],
   "source": [
    "initialise_or_create_database_at('C:\\\\Users\\\\nanouser\\\\MeasureIt\\\\currentdatabase.db')"
   ]
  },
  {
   "cell_type": "markdown",
   "metadata": {},
   "source": [
    "Start a new experiment that will go in \"currentdatabase\""
   ]
  },
  {
   "cell_type": "code",
   "execution_count": 8,
   "metadata": {},
   "outputs": [
    {
     "data": {
      "text/plain": [
       "demotest3#my best sample3#1@C:\\Users\\nanouser\\MeasureIt\\currentdatabase.db\n",
       "--------------------------------------------------------------------------"
      ]
     },
     "execution_count": 8,
     "metadata": {},
     "output_type": "execute_result"
    }
   ],
   "source": [
    "qc.new_experiment(name='demotest3', sample_name='my best sample3')"
   ]
  },
  {
   "cell_type": "markdown",
   "metadata": {},
   "source": [
    "Class Sweep to sweep and then plots the data, should work for any intrument"
   ]
  },
  {
   "cell_type": "code",
   "execution_count": 9,
   "metadata": {},
   "outputs": [],
   "source": [
    "# %load sweep.py\n",
    "import io\n",
    "import time\n",
    "import numpy as np\n",
    "import matplotlib.pyplot as plt\n",
    "from matplotlib.ticker import ScalarFormatter\n",
    "import qcodes as qc\n",
    "from qcodes.dataset.measurements import Measurement\n",
    "from IPython import display\n",
    "\n",
    "\n",
    "class Sweep(object):\n",
    "    def __init__(self):\n",
    "        self._params = []\n",
    "    \n",
    "    def follow_param(self, p):\n",
    "        self._params.append(p)\n",
    "\n",
    "    def _create_measurement(self, *set_params):\n",
    "        meas = Measurement()\n",
    "        for p in set_params:\n",
    "            meas.register_parameter(p)\n",
    "        meas.register_custom_parameter('time', label='Time', unit='s')\n",
    "        for p in self._params:\n",
    "            meas.register_parameter(p, setpoints=(*set_params, 'time',))\n",
    "        return meas\n",
    "    \n",
    "    def sweep(self, set_param, vals, inter_delay=None):\n",
    "        if inter_delay is not None:\n",
    "            d = len(vals)*inter_delay\n",
    "            h, m, s = int(d/3600), int(d/60) % 60, int(d) % 60\n",
    "            print(f'Minimum duration: {h}h {m}m {s}s')\n",
    "\n",
    "        fig = plt.figure(figsize=(4*(2 + len(self._params)),4))\n",
    "        grid = plt.GridSpec(4, 1 + len(self._params), hspace=0)\n",
    "        setax = fig.add_subplot(grid[:, 0])\n",
    "        setax.set_xlabel('Time (s)')\n",
    "        setax.set_ylabel(f'{set_param.label} ({set_param.unit})')\n",
    "        setaxline = setax.plot([], [])[0]\n",
    "\n",
    "        paxs = []\n",
    "        plines = []\n",
    "        for i, p in enumerate(self._params):\n",
    "            ax = fig.add_subplot(grid[:, 1 + i])\n",
    "            ax.set_xlabel(f'{set_param.label} ({set_param.unit})')\n",
    "            ax.set_ylabel(f'{p.label} ({p.unit})')\n",
    "            paxs.append(ax)\n",
    "            plines.append(ax.plot([], [])[0])\n",
    "\n",
    "        laxs = []\n",
    "        llines = []\n",
    "\n",
    "\n",
    "        fig.tight_layout()\n",
    "        fig.show()\n",
    "\n",
    "        meas = self._create_measurement(set_param)\n",
    "        with meas.run() as datasaver:\n",
    "            try:\n",
    "                t0 = time.monotonic()\n",
    "                for setpoint in vals:\n",
    "                    t = time.monotonic() - t0\n",
    "                    set_param.set(setpoint)\n",
    "\n",
    "                    setaxline.set_xdata(np.append(setaxline.get_xdata(), t))\n",
    "                    setaxline.set_ydata(np.append(setaxline.get_ydata(), setpoint))\n",
    "                    setax.relim()\n",
    "                    setax.autoscale_view()\n",
    "\n",
    "                    if inter_delay is not None:\n",
    "                        plt.pause(inter_delay)\n",
    "\n",
    "                    data = [\n",
    "                        (set_param, setpoint),\n",
    "                        ('time', t)\n",
    "                        ]\n",
    "                    for i, p in enumerate(self._params):\n",
    "                        v = p.get()\n",
    "                        data.append((p, v))\n",
    "                        plines[i].set_xdata(np.append(plines[i].get_xdata(), setpoint))\n",
    "                        plines[i].set_ydata(np.append(plines[i].get_ydata(), v))\n",
    "                        paxs[i].relim()\n",
    "                        paxs[i].autoscale_view()\n",
    "\n",
    "                    datasaver.add_result(*data)\n",
    "\n",
    "                    fig.tight_layout()\n",
    "                    fig.canvas.draw()\n",
    "                    plt.pause(0.001)\n",
    "\n",
    "                d = time.monotonic() - t0\n",
    "                h, m, s = int(d/3600), int(d/60) % 60, int(d) % 60\n",
    "                print(f'Completed in: {h}h {m}m {s}s')\n",
    "\n",
    "                b = io.BytesIO()\n",
    "                fig.savefig(b, format='png')\n",
    "                display.display(display.Image(data=b.getbuffer(), format='png'))\n",
    "            except KeyboardInterrupt:\n",
    "                print('At stoppage')\n",
    "                for i,p in enumerate(data): \n",
    "                    print(data[i][0],'is equal to',data[i][1])                   \n",
    "                pass"
   ]
  },
  {
   "cell_type": "markdown",
   "metadata": {},
   "source": [
    "This sets data to be plotted in a separate window from the notebook"
   ]
  },
  {
   "cell_type": "code",
   "execution_count": 10,
   "metadata": {},
   "outputs": [],
   "source": [
    "%matplotlib qt"
   ]
  },
  {
   "cell_type": "markdown",
   "metadata": {},
   "source": [
    "Creates an instance of the class sweep <br>\n",
    "Adds the parameter to measure <br>\n",
    "Runs the function sweep with voltages as the sweep parameter"
   ]
  },
  {
   "cell_type": "code",
   "execution_count": 11,
   "metadata": {
    "scrolled": true
   },
   "outputs": [
    {
     "name": "stdout",
     "output_type": "stream",
     "text": [
      "Minimum duration: 0h 0m 0s\n",
      "Starting experimental run with id: 1\n",
      "2.859945E-12\n",
      "2.595404E-12\n",
      "2.825137E-12\n",
      "2.567558E-12\n",
      "3.013101E-12\n",
      "2.198593E-12\n",
      "3.291565E-12\n",
      "5.138819E-13\n",
      "2.741599E-12\n",
      "6.152604E-12\n",
      "3.409913E-12\n",
      "3.897225E-12\n",
      "1.099042E-11\n",
      "3.570030E-12\n",
      "4.029496E-12\n",
      "8.480421E-13\n",
      "2.553635E-12\n",
      "2.915639E-12\n",
      "6.932222E-12\n",
      "3.082718E-12\n",
      "3.549146E-12\n",
      "3.611800E-12\n",
      "2.463135E-12\n",
      "2.943485E-12\n",
      "2.825138E-12\n",
      "3.096642E-12\n",
      "2.992218E-12\n",
      "2.971332E-12\n",
      "2.922601E-12\n",
      "2.504906E-12\n",
      "2.811216E-12\n",
      "2.630213E-12\n",
      "2.964371E-12\n",
      "2.671983E-12\n",
      "2.163787E-12\n",
      "2.177710E-12\n",
      "2.435289E-12\n",
      "2.511866E-12\n",
      "3.061834E-12\n",
      "3.228912E-12\n",
      "2.971333E-12\n",
      "2.811217E-12\n",
      "3.430799E-12\n",
      "2.894755E-12\n",
      "3.521300E-12\n",
      "2.859948E-12\n",
      "2.553639E-12\n",
      "2.581484E-12\n",
      "2.588445E-12\n",
      "3.020064E-12\n",
      "Completed in: 0h 0m 10s\n"
     ]
    },
    {
     "data": {
      "image/png": "[encoded data removed]",
      "text/plain": [
       "<IPython.core.display.Image object>"
      ]
     },
     "metadata": {},
     "output_type": "display_data"
    }
   ],
   "source": [
    "s = Sweep()\n",
    "s.follow_param(Keith.curr)\n",
    "s.sweep(Keith.volt, np.linspace(0, 1, 50), inter_delay=.01)"
   ]
  },
  {
   "cell_type": "markdown",
   "metadata": {},
   "source": [
    "Now that we have created another \"results\" we can see the entire list of experiments and results in the database"
   ]
  },
  {
   "cell_type": "code",
   "execution_count": 12,
   "metadata": {},
   "outputs": [
    {
     "data": {
      "text/plain": [
       "[demotest3#my best sample3#1@C:\\Users\\nanouser\\MeasureIt\\currentdatabase.db\n",
       " --------------------------------------------------------------------------\n",
       " 1-results-1-Keith_volt,time,Keith_curr-50]"
      ]
     },
     "execution_count": 12,
     "metadata": {},
     "output_type": "execute_result"
    }
   ],
   "source": [
    "qc.dataset.experiment_container.experiments()"
   ]
  },
  {
   "cell_type": "markdown",
   "metadata": {},
   "source": [
    "We can look at previous data"
   ]
  },
  {
   "cell_type": "code",
   "execution_count": 14,
   "metadata": {},
   "outputs": [],
   "source": [
    "ex = qc.dataset.experiment_container.load_experiment(0)\n",
    "from qcodes.dataset.data_export import get_data_by_id \n",
    "fii = get_data_by_id(ex.data_sets()[0].run_id)"
   ]
  },
  {
   "cell_type": "code",
   "execution_count": 15,
   "metadata": {},
   "outputs": [
    {
     "data": {
      "text/plain": [
       "[[{'name': 'Keith_volt',\n",
       "   'label': 'Voltage',\n",
       "   'unit': 'V',\n",
       "   'data': array([ 0.        ,  0.02040816,  0.04081633,  0.06122449,  0.08163265,\n",
       "           0.10204082,  0.12244898,  0.14285714,  0.16326531,  0.18367347,\n",
       "           0.20408163,  0.2244898 ,  0.24489796,  0.26530612,  0.28571429,\n",
       "           0.30612245,  0.32653061,  0.34693878,  0.36734694,  0.3877551 ,\n",
       "           0.40816327,  0.42857143,  0.44897959,  0.46938776,  0.48979592,\n",
       "           0.51020408,  0.53061224,  0.55102041,  0.57142857,  0.59183673,\n",
       "           0.6122449 ,  0.63265306,  0.65306122,  0.67346939,  0.69387755,\n",
       "           0.71428571,  0.73469388,  0.75510204,  0.7755102 ,  0.79591837,\n",
       "           0.81632653,  0.83673469,  0.85714286,  0.87755102,  0.89795918,\n",
       "           0.91836735,  0.93877551,  0.95918367,  0.97959184,  1.        ])},\n",
       "  {'name': 'time',\n",
       "   'label': 'Time',\n",
       "   'unit': 's',\n",
       "   'data': array([ 0.   ,  0.219,  0.437,  0.64 ,  0.859,  1.062,  1.281,  1.469,\n",
       "           1.672,  1.89 ,  2.109,  2.312,  2.5  ,  2.703,  2.906,  3.109,\n",
       "           3.297,  3.5  ,  3.703,  3.906,  4.125,  4.328,  4.515,  4.719,\n",
       "           4.89 ,  5.094,  5.297,  5.5  ,  5.687,  5.89 ,  6.078,  6.281,\n",
       "           6.484,  6.687,  6.89 ,  7.078,  7.281,  7.484,  7.687,  7.89 ,\n",
       "           8.094,  8.297,  8.484,  8.672,  8.859,  9.047,  9.219,  9.422,\n",
       "           9.609,  9.797])},\n",
       "  {'name': 'Keith_curr',\n",
       "   'label': 'Current',\n",
       "   'unit': 'A',\n",
       "   'data': array([  2.85994500e-12,   2.59540400e-12,   2.82513700e-12,\n",
       "            2.56755800e-12,   3.01310100e-12,   2.19859300e-12,\n",
       "            3.29156500e-12,   5.13881900e-13,   2.74159900e-12,\n",
       "            6.15260400e-12,   3.40991300e-12,   3.89722500e-12,\n",
       "            1.09904200e-11,   3.57003000e-12,   4.02949600e-12,\n",
       "            8.48042100e-13,   2.55363500e-12,   2.91563900e-12,\n",
       "            6.93222200e-12,   3.08271800e-12,   3.54914600e-12,\n",
       "            3.61180000e-12,   2.46313500e-12,   2.94348500e-12,\n",
       "            2.82513800e-12,   3.09664200e-12,   2.99221800e-12,\n",
       "            2.97133200e-12,   2.92260100e-12,   2.50490600e-12,\n",
       "            2.81121600e-12,   2.63021300e-12,   2.96437100e-12,\n",
       "            2.67198300e-12,   2.16378700e-12,   2.17771000e-12,\n",
       "            2.43528900e-12,   2.51186600e-12,   3.06183400e-12,\n",
       "            3.22891200e-12,   2.97133300e-12,   2.81121700e-12,\n",
       "            3.43079900e-12,   2.89475500e-12,   3.52130000e-12,\n",
       "            2.85994800e-12,   2.55363900e-12,   2.58148400e-12,\n",
       "            2.58844500e-12,   3.02006400e-12])}]]"
      ]
     },
     "execution_count": 15,
     "metadata": {},
     "output_type": "execute_result"
    }
   ],
   "source": [
    "fii"
   ]
  },
  {
   "cell_type": "code",
   "execution_count": 16,
   "metadata": {},
   "outputs": [
    {
     "data": {
      "text/plain": [
       "array([ 0.   ,  0.219,  0.437,  0.64 ,  0.859,  1.062,  1.281,  1.469,\n",
       "        1.672,  1.89 ,  2.109,  2.312,  2.5  ,  2.703,  2.906,  3.109,\n",
       "        3.297,  3.5  ,  3.703,  3.906,  4.125,  4.328,  4.515,  4.719,\n",
       "        4.89 ,  5.094,  5.297,  5.5  ,  5.687,  5.89 ,  6.078,  6.281,\n",
       "        6.484,  6.687,  6.89 ,  7.078,  7.281,  7.484,  7.687,  7.89 ,\n",
       "        8.094,  8.297,  8.484,  8.672,  8.859,  9.047,  9.219,  9.422,\n",
       "        9.609,  9.797])"
      ]
     },
     "execution_count": 16,
     "metadata": {},
     "output_type": "execute_result"
    }
   ],
   "source": [
    "fii[0][1]['data']"
   ]
  }
 ],
 "metadata": {
  "kernelspec": {
   "display_name": "Python 3",
   "language": "python",
   "name": "python3"
  },
  "language_info": {
   "codemirror_mode": {
    "name": "ipython",
    "version": 3
   },
   "file_extension": ".py",
   "mimetype": "text/x-python",
   "name": "python",
   "nbconvert_exporter": "python",
   "pygments_lexer": "ipython3",
   "version": "3.6.8"
  }
 },
 "nbformat": 4,
 "nbformat_minor": 2
}
