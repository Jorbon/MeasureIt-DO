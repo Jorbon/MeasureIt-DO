{
 "cells": [
  {
   "cell_type": "code",
   "execution_count": 1,
   "metadata": {},
   "outputs": [],
   "source": [
    "import src\n",
    "from GUI.handlers import NotebookLogger\n",
    "from src.sweep0d import Sweep0D\n",
    "from src.sweep1d import Sweep1D\n",
    "from src.sweep2d import Sweep2D\n",
    "from src.daq_driver import Daq, DaqAOChannel, DaqAIChannel\n",
    "from src.util import connect_to_station, connect_station_instruments\n",
    "from src.tracking import *\n",
    "import nidaqmx\n",
    "import time\n",
    "import numpy as np\n",
    "import qcodes as qc\n",
    "from qcodes import initialise_or_create_database_at, load_by_run_spec\n",
    "from qcodes.instrument_drivers.Lakeshore.Model_372 import Model_372\n",
    "from qcodes.instrument_drivers.american_magnetics.AMI430 import AMI430\n",
    "from qcodes.instrument_drivers.stanford_research.SR860 import SR860\n",
    "from qcodes.tests.instrument_mocks import DummyInstrument"
   ]
  },
  {
   "cell_type": "code",
   "execution_count": 6,
   "outputs": [],
   "source": [
    "station = connect_to_station()\n",
    "devices = connect_station_instruments(station)"
   ],
   "metadata": {
    "collapsed": false,
    "pycharm": {
     "name": "#%%\n"
    }
   }
  },
  {
   "cell_type": "code",
   "execution_count": 4,
   "metadata": {},
   "outputs": [
    {
     "ename": "VisaIOError",
     "evalue": "VI_ERROR_RSRC_NFOUND (-1073807343): Insufficient location information or the requested device or resource is not present in the system.",
     "output_type": "error",
     "traceback": [
      "\u001B[1;31m---------------------------------------------------------------------------\u001B[0m",
      "\u001B[1;31mVisaIOError\u001B[0m                               Traceback (most recent call last)",
      "\u001B[1;32m<ipython-input-4-b9bfb10160e9>\u001B[0m in \u001B[0;36m<module>\u001B[1;34m\u001B[0m\n\u001B[0;32m      1\u001B[0m \u001B[1;31m# initialize the lakeshore\u001B[0m\u001B[1;33m\u001B[0m\u001B[1;33m\u001B[0m\u001B[1;33m\u001B[0m\u001B[0m\n\u001B[0;32m      2\u001B[0m \u001B[1;33m\u001B[0m\u001B[0m\n\u001B[1;32m----> 3\u001B[1;33m \u001B[0mls\u001B[0m \u001B[1;33m=\u001B[0m \u001B[0mModel_372\u001B[0m\u001B[1;33m(\u001B[0m\u001B[1;34m'lakeshore_372'\u001B[0m\u001B[1;33m,\u001B[0m \u001B[1;34m'TCPIP::10.155.95.127::7777::SOCKET'\u001B[0m\u001B[1;33m)\u001B[0m\u001B[1;33m\u001B[0m\u001B[1;33m\u001B[0m\u001B[0m\n\u001B[0m\u001B[0;32m      4\u001B[0m \u001B[0mls\u001B[0m\u001B[1;33m.\u001B[0m\u001B[0mch01\u001B[0m\u001B[1;33m.\u001B[0m\u001B[0menabled\u001B[0m\u001B[1;33m(\u001B[0m\u001B[1;32mFalse\u001B[0m\u001B[1;33m)\u001B[0m\u001B[1;33m\u001B[0m\u001B[1;33m\u001B[0m\u001B[0m\n\u001B[0;32m      5\u001B[0m \u001B[0mls\u001B[0m\u001B[1;33m.\u001B[0m\u001B[0mch02\u001B[0m\u001B[1;33m.\u001B[0m\u001B[0menabled\u001B[0m\u001B[1;33m(\u001B[0m\u001B[1;32mFalse\u001B[0m\u001B[1;33m)\u001B[0m\u001B[1;33m\u001B[0m\u001B[1;33m\u001B[0m\u001B[0m\n",
      "\u001B[1;32mc:\\users\\elliott runburg\\qcodes\\qcodes\\instrument_drivers\\Lakeshore\\Model_372.py\u001B[0m in \u001B[0;36m__init__\u001B[1;34m(self, name, address, **kwargs)\u001B[0m\n\u001B[0;32m    242\u001B[0m \u001B[1;33m\u001B[0m\u001B[0m\n\u001B[0;32m    243\u001B[0m     \u001B[1;32mdef\u001B[0m \u001B[0m__init__\u001B[0m\u001B[1;33m(\u001B[0m\u001B[0mself\u001B[0m\u001B[1;33m,\u001B[0m \u001B[0mname\u001B[0m\u001B[1;33m:\u001B[0m \u001B[0mstr\u001B[0m\u001B[1;33m,\u001B[0m \u001B[0maddress\u001B[0m\u001B[1;33m:\u001B[0m \u001B[0mstr\u001B[0m\u001B[1;33m,\u001B[0m \u001B[1;33m**\u001B[0m\u001B[0mkwargs\u001B[0m\u001B[1;33m)\u001B[0m \u001B[1;33m->\u001B[0m \u001B[1;32mNone\u001B[0m\u001B[1;33m:\u001B[0m\u001B[1;33m\u001B[0m\u001B[1;33m\u001B[0m\u001B[0m\n\u001B[1;32m--> 244\u001B[1;33m         \u001B[0msuper\u001B[0m\u001B[1;33m(\u001B[0m\u001B[1;33m)\u001B[0m\u001B[1;33m.\u001B[0m\u001B[0m__init__\u001B[0m\u001B[1;33m(\u001B[0m\u001B[0mname\u001B[0m\u001B[1;33m,\u001B[0m \u001B[0maddress\u001B[0m\u001B[1;33m,\u001B[0m \u001B[1;33m**\u001B[0m\u001B[0mkwargs\u001B[0m\u001B[1;33m)\u001B[0m\u001B[1;33m\u001B[0m\u001B[1;33m\u001B[0m\u001B[0m\n\u001B[0m\u001B[0;32m    245\u001B[0m \u001B[1;33m\u001B[0m\u001B[0m\n\u001B[0;32m    246\u001B[0m         \u001B[0mheaters\u001B[0m \u001B[1;33m=\u001B[0m \u001B[1;33m{\u001B[0m\u001B[1;34m'sample_heater'\u001B[0m\u001B[1;33m:\u001B[0m \u001B[1;36m0\u001B[0m\u001B[1;33m,\u001B[0m \u001B[1;34m'warmup_heater'\u001B[0m\u001B[1;33m:\u001B[0m \u001B[1;36m1\u001B[0m\u001B[1;33m,\u001B[0m \u001B[1;34m'analog_heater'\u001B[0m\u001B[1;33m:\u001B[0m \u001B[1;36m2\u001B[0m\u001B[1;33m}\u001B[0m\u001B[1;33m\u001B[0m\u001B[1;33m\u001B[0m\u001B[0m\n",
      "\u001B[1;32mc:\\users\\elliott runburg\\qcodes\\qcodes\\instrument_drivers\\Lakeshore\\lakeshore_base.py\u001B[0m in \u001B[0;36m__init__\u001B[1;34m(self, name, address, terminator, **kwargs)\u001B[0m\n\u001B[0;32m    471\u001B[0m                  \u001B[1;33m**\u001B[0m\u001B[0mkwargs\u001B[0m\u001B[1;33m\u001B[0m\u001B[1;33m\u001B[0m\u001B[0m\n\u001B[0;32m    472\u001B[0m                  ) -> None:\n\u001B[1;32m--> 473\u001B[1;33m         \u001B[0msuper\u001B[0m\u001B[1;33m(\u001B[0m\u001B[1;33m)\u001B[0m\u001B[1;33m.\u001B[0m\u001B[0m__init__\u001B[0m\u001B[1;33m(\u001B[0m\u001B[0mname\u001B[0m\u001B[1;33m,\u001B[0m \u001B[0maddress\u001B[0m\u001B[1;33m,\u001B[0m \u001B[0mterminator\u001B[0m\u001B[1;33m=\u001B[0m\u001B[0mterminator\u001B[0m\u001B[1;33m,\u001B[0m \u001B[1;33m**\u001B[0m\u001B[0mkwargs\u001B[0m\u001B[1;33m)\u001B[0m\u001B[1;33m\u001B[0m\u001B[1;33m\u001B[0m\u001B[0m\n\u001B[0m\u001B[0;32m    474\u001B[0m \u001B[1;33m\u001B[0m\u001B[0m\n\u001B[0;32m    475\u001B[0m         \u001B[1;31m# Allow access to channels either by referring to the channel name\u001B[0m\u001B[1;33m\u001B[0m\u001B[1;33m\u001B[0m\u001B[1;33m\u001B[0m\u001B[0m\n",
      "\u001B[1;32mc:\\users\\elliott runburg\\qcodes\\qcodes\\instrument\\visa.py\u001B[0m in \u001B[0;36m__init__\u001B[1;34m(self, name, address, timeout, terminator, device_clear, visalib, **kwargs)\u001B[0m\n\u001B[0;32m     85\u001B[0m             \u001B[0mself\u001B[0m\u001B[1;33m.\u001B[0m\u001B[0mvisa_log\u001B[0m\u001B[1;33m.\u001B[0m\u001B[0minfo\u001B[0m\u001B[1;33m(\u001B[0m\u001B[1;34mf\"Could not connect at {address}\"\u001B[0m\u001B[1;33m)\u001B[0m\u001B[1;33m\u001B[0m\u001B[1;33m\u001B[0m\u001B[0m\n\u001B[0;32m     86\u001B[0m             \u001B[0mself\u001B[0m\u001B[1;33m.\u001B[0m\u001B[0mclose\u001B[0m\u001B[1;33m(\u001B[0m\u001B[1;33m)\u001B[0m\u001B[1;33m\u001B[0m\u001B[1;33m\u001B[0m\u001B[0m\n\u001B[1;32m---> 87\u001B[1;33m             \u001B[1;32mraise\u001B[0m \u001B[0me\u001B[0m\u001B[1;33m\u001B[0m\u001B[1;33m\u001B[0m\u001B[0m\n\u001B[0m\u001B[0;32m     88\u001B[0m \u001B[1;33m\u001B[0m\u001B[0m\n\u001B[0;32m     89\u001B[0m         \u001B[1;32mif\u001B[0m \u001B[0mdevice_clear\u001B[0m\u001B[1;33m:\u001B[0m\u001B[1;33m\u001B[0m\u001B[1;33m\u001B[0m\u001B[0m\n",
      "\u001B[1;32mc:\\users\\elliott runburg\\qcodes\\qcodes\\instrument\\visa.py\u001B[0m in \u001B[0;36m__init__\u001B[1;34m(self, name, address, timeout, terminator, device_clear, visalib, **kwargs)\u001B[0m\n\u001B[0;32m     81\u001B[0m \u001B[1;33m\u001B[0m\u001B[0m\n\u001B[0;32m     82\u001B[0m         \u001B[1;32mtry\u001B[0m\u001B[1;33m:\u001B[0m\u001B[1;33m\u001B[0m\u001B[1;33m\u001B[0m\u001B[0m\n\u001B[1;32m---> 83\u001B[1;33m             \u001B[0mself\u001B[0m\u001B[1;33m.\u001B[0m\u001B[0mset_address\u001B[0m\u001B[1;33m(\u001B[0m\u001B[0maddress\u001B[0m\u001B[1;33m)\u001B[0m\u001B[1;33m\u001B[0m\u001B[1;33m\u001B[0m\u001B[0m\n\u001B[0m\u001B[0;32m     84\u001B[0m         \u001B[1;32mexcept\u001B[0m \u001B[0mException\u001B[0m \u001B[1;32mas\u001B[0m \u001B[0me\u001B[0m\u001B[1;33m:\u001B[0m\u001B[1;33m\u001B[0m\u001B[1;33m\u001B[0m\u001B[0m\n\u001B[0;32m     85\u001B[0m             \u001B[0mself\u001B[0m\u001B[1;33m.\u001B[0m\u001B[0mvisa_log\u001B[0m\u001B[1;33m.\u001B[0m\u001B[0minfo\u001B[0m\u001B[1;33m(\u001B[0m\u001B[1;34mf\"Could not connect at {address}\"\u001B[0m\u001B[1;33m)\u001B[0m\u001B[1;33m\u001B[0m\u001B[1;33m\u001B[0m\u001B[0m\n",
      "\u001B[1;32mc:\\users\\elliott runburg\\qcodes\\qcodes\\instrument\\visa.py\u001B[0m in \u001B[0;36mset_address\u001B[1;34m(self, address)\u001B[0m\n\u001B[0;32m    120\u001B[0m \u001B[1;33m\u001B[0m\u001B[0m\n\u001B[0;32m    121\u001B[0m         \u001B[0mself\u001B[0m\u001B[1;33m.\u001B[0m\u001B[0mvisa_log\u001B[0m\u001B[1;33m.\u001B[0m\u001B[0minfo\u001B[0m\u001B[1;33m(\u001B[0m\u001B[1;34m'Opening PyVISA resource at address: {}'\u001B[0m\u001B[1;33m.\u001B[0m\u001B[0mformat\u001B[0m\u001B[1;33m(\u001B[0m\u001B[0maddress\u001B[0m\u001B[1;33m)\u001B[0m\u001B[1;33m)\u001B[0m\u001B[1;33m\u001B[0m\u001B[1;33m\u001B[0m\u001B[0m\n\u001B[1;32m--> 122\u001B[1;33m         \u001B[0mself\u001B[0m\u001B[1;33m.\u001B[0m\u001B[0mvisa_handle\u001B[0m \u001B[1;33m=\u001B[0m \u001B[0mresource_manager\u001B[0m\u001B[1;33m.\u001B[0m\u001B[0mopen_resource\u001B[0m\u001B[1;33m(\u001B[0m\u001B[0maddress\u001B[0m\u001B[1;33m)\u001B[0m\u001B[1;33m\u001B[0m\u001B[1;33m\u001B[0m\u001B[0m\n\u001B[0m\u001B[0;32m    123\u001B[0m         \u001B[0mself\u001B[0m\u001B[1;33m.\u001B[0m\u001B[0m_address\u001B[0m \u001B[1;33m=\u001B[0m \u001B[0maddress\u001B[0m\u001B[1;33m\u001B[0m\u001B[1;33m\u001B[0m\u001B[0m\n\u001B[0;32m    124\u001B[0m \u001B[1;33m\u001B[0m\u001B[0m\n",
      "\u001B[1;32m~\\Anaconda3\\envs\\qcodes\\lib\\site-packages\\pyvisa\\highlevel.py\u001B[0m in \u001B[0;36mopen_resource\u001B[1;34m(self, resource_name, access_mode, open_timeout, resource_pyclass, **kwargs)\u001B[0m\n\u001B[0;32m   1722\u001B[0m                 \u001B[1;32mraise\u001B[0m \u001B[0mValueError\u001B[0m\u001B[1;33m(\u001B[0m\u001B[1;34m'%r is not a valid attribute for type %s'\u001B[0m \u001B[1;33m%\u001B[0m \u001B[1;33m(\u001B[0m\u001B[0mkey\u001B[0m\u001B[1;33m,\u001B[0m \u001B[0mres\u001B[0m\u001B[1;33m.\u001B[0m\u001B[0m__class__\u001B[0m\u001B[1;33m.\u001B[0m\u001B[0m__name__\u001B[0m\u001B[1;33m)\u001B[0m\u001B[1;33m)\u001B[0m\u001B[1;33m\u001B[0m\u001B[1;33m\u001B[0m\u001B[0m\n\u001B[0;32m   1723\u001B[0m \u001B[1;33m\u001B[0m\u001B[0m\n\u001B[1;32m-> 1724\u001B[1;33m         \u001B[0mres\u001B[0m\u001B[1;33m.\u001B[0m\u001B[0mopen\u001B[0m\u001B[1;33m(\u001B[0m\u001B[0maccess_mode\u001B[0m\u001B[1;33m,\u001B[0m \u001B[0mopen_timeout\u001B[0m\u001B[1;33m)\u001B[0m\u001B[1;33m\u001B[0m\u001B[1;33m\u001B[0m\u001B[0m\n\u001B[0m\u001B[0;32m   1725\u001B[0m \u001B[1;33m\u001B[0m\u001B[0m\n\u001B[0;32m   1726\u001B[0m         \u001B[1;32mfor\u001B[0m \u001B[0mkey\u001B[0m\u001B[1;33m,\u001B[0m \u001B[0mvalue\u001B[0m \u001B[1;32min\u001B[0m \u001B[0mkwargs\u001B[0m\u001B[1;33m.\u001B[0m\u001B[0mitems\u001B[0m\u001B[1;33m(\u001B[0m\u001B[1;33m)\u001B[0m\u001B[1;33m:\u001B[0m\u001B[1;33m\u001B[0m\u001B[1;33m\u001B[0m\u001B[0m\n",
      "\u001B[1;32m~\\Anaconda3\\envs\\qcodes\\lib\\site-packages\\pyvisa\\resources\\resource.py\u001B[0m in \u001B[0;36mopen\u001B[1;34m(self, access_mode, open_timeout)\u001B[0m\n\u001B[0;32m    207\u001B[0m         \u001B[0mlogger\u001B[0m\u001B[1;33m.\u001B[0m\u001B[0mdebug\u001B[0m\u001B[1;33m(\u001B[0m\u001B[1;34m'%s - opening ...'\u001B[0m\u001B[1;33m,\u001B[0m \u001B[0mself\u001B[0m\u001B[1;33m.\u001B[0m\u001B[0m_resource_name\u001B[0m\u001B[1;33m,\u001B[0m \u001B[0mextra\u001B[0m\u001B[1;33m=\u001B[0m\u001B[0mself\u001B[0m\u001B[1;33m.\u001B[0m\u001B[0m_logging_extra\u001B[0m\u001B[1;33m)\u001B[0m\u001B[1;33m\u001B[0m\u001B[1;33m\u001B[0m\u001B[0m\n\u001B[0;32m    208\u001B[0m         \u001B[1;32mwith\u001B[0m \u001B[0mself\u001B[0m\u001B[1;33m.\u001B[0m\u001B[0m_resource_manager\u001B[0m\u001B[1;33m.\u001B[0m\u001B[0mignore_warning\u001B[0m\u001B[1;33m(\u001B[0m\u001B[0mconstants\u001B[0m\u001B[1;33m.\u001B[0m\u001B[0mVI_SUCCESS_DEV_NPRESENT\u001B[0m\u001B[1;33m)\u001B[0m\u001B[1;33m:\u001B[0m\u001B[1;33m\u001B[0m\u001B[1;33m\u001B[0m\u001B[0m\n\u001B[1;32m--> 209\u001B[1;33m             \u001B[0mself\u001B[0m\u001B[1;33m.\u001B[0m\u001B[0msession\u001B[0m\u001B[1;33m,\u001B[0m \u001B[0mstatus\u001B[0m \u001B[1;33m=\u001B[0m \u001B[0mself\u001B[0m\u001B[1;33m.\u001B[0m\u001B[0m_resource_manager\u001B[0m\u001B[1;33m.\u001B[0m\u001B[0mopen_bare_resource\u001B[0m\u001B[1;33m(\u001B[0m\u001B[0mself\u001B[0m\u001B[1;33m.\u001B[0m\u001B[0m_resource_name\u001B[0m\u001B[1;33m,\u001B[0m \u001B[0maccess_mode\u001B[0m\u001B[1;33m,\u001B[0m \u001B[0mopen_timeout\u001B[0m\u001B[1;33m)\u001B[0m\u001B[1;33m\u001B[0m\u001B[1;33m\u001B[0m\u001B[0m\n\u001B[0m\u001B[0;32m    210\u001B[0m \u001B[1;33m\u001B[0m\u001B[0m\n\u001B[0;32m    211\u001B[0m             \u001B[1;32mif\u001B[0m \u001B[0mstatus\u001B[0m \u001B[1;33m==\u001B[0m \u001B[0mconstants\u001B[0m\u001B[1;33m.\u001B[0m\u001B[0mVI_SUCCESS_DEV_NPRESENT\u001B[0m\u001B[1;33m:\u001B[0m\u001B[1;33m\u001B[0m\u001B[1;33m\u001B[0m\u001B[0m\n",
      "\u001B[1;32m~\\Anaconda3\\envs\\qcodes\\lib\\site-packages\\pyvisa\\highlevel.py\u001B[0m in \u001B[0;36mopen_bare_resource\u001B[1;34m(self, resource_name, access_mode, open_timeout)\u001B[0m\n\u001B[0;32m   1679\u001B[0m         \u001B[1;33m:\u001B[0m\u001B[1;32mreturn\u001B[0m\u001B[1;33m:\u001B[0m \u001B[0mUnique\u001B[0m \u001B[0mlogical\u001B[0m \u001B[0midentifier\u001B[0m \u001B[0mreference\u001B[0m \u001B[0mto\u001B[0m \u001B[0ma\u001B[0m \u001B[0msession\u001B[0m\u001B[1;33m.\u001B[0m\u001B[1;33m\u001B[0m\u001B[1;33m\u001B[0m\u001B[0m\n\u001B[0;32m   1680\u001B[0m         \"\"\"\n\u001B[1;32m-> 1681\u001B[1;33m         \u001B[1;32mreturn\u001B[0m \u001B[0mself\u001B[0m\u001B[1;33m.\u001B[0m\u001B[0mvisalib\u001B[0m\u001B[1;33m.\u001B[0m\u001B[0mopen\u001B[0m\u001B[1;33m(\u001B[0m\u001B[0mself\u001B[0m\u001B[1;33m.\u001B[0m\u001B[0msession\u001B[0m\u001B[1;33m,\u001B[0m \u001B[0mresource_name\u001B[0m\u001B[1;33m,\u001B[0m \u001B[0maccess_mode\u001B[0m\u001B[1;33m,\u001B[0m \u001B[0mopen_timeout\u001B[0m\u001B[1;33m)\u001B[0m\u001B[1;33m\u001B[0m\u001B[1;33m\u001B[0m\u001B[0m\n\u001B[0m\u001B[0;32m   1682\u001B[0m \u001B[1;33m\u001B[0m\u001B[0m\n\u001B[0;32m   1683\u001B[0m     def open_resource(self, resource_name,\n",
      "\u001B[1;32m~\\Anaconda3\\envs\\qcodes\\lib\\site-packages\\pyvisa\\ctwrapper\\functions.py\u001B[0m in \u001B[0;36mopen\u001B[1;34m(library, session, resource_name, access_mode, open_timeout)\u001B[0m\n\u001B[0;32m   1211\u001B[0m     \u001B[1;31m# [ViSession, ViRsrc, ViAccessMode, ViUInt32, ViPSession]\u001B[0m\u001B[1;33m\u001B[0m\u001B[1;33m\u001B[0m\u001B[1;33m\u001B[0m\u001B[0m\n\u001B[0;32m   1212\u001B[0m     \u001B[1;31m# ViRsrc converts from (str, unicode, bytes) to bytes\u001B[0m\u001B[1;33m\u001B[0m\u001B[1;33m\u001B[0m\u001B[1;33m\u001B[0m\u001B[0m\n\u001B[1;32m-> 1213\u001B[1;33m     \u001B[0mret\u001B[0m \u001B[1;33m=\u001B[0m \u001B[0mlibrary\u001B[0m\u001B[1;33m.\u001B[0m\u001B[0mviOpen\u001B[0m\u001B[1;33m(\u001B[0m\u001B[0msession\u001B[0m\u001B[1;33m,\u001B[0m \u001B[0mresource_name\u001B[0m\u001B[1;33m,\u001B[0m \u001B[0maccess_mode\u001B[0m\u001B[1;33m,\u001B[0m \u001B[0mopen_timeout\u001B[0m\u001B[1;33m,\u001B[0m \u001B[0mbyref\u001B[0m\u001B[1;33m(\u001B[0m\u001B[0mout_session\u001B[0m\u001B[1;33m)\u001B[0m\u001B[1;33m)\u001B[0m\u001B[1;33m\u001B[0m\u001B[1;33m\u001B[0m\u001B[0m\n\u001B[0m\u001B[0;32m   1214\u001B[0m     \u001B[1;32mreturn\u001B[0m \u001B[0mout_session\u001B[0m\u001B[1;33m.\u001B[0m\u001B[0mvalue\u001B[0m\u001B[1;33m,\u001B[0m \u001B[0mret\u001B[0m\u001B[1;33m\u001B[0m\u001B[1;33m\u001B[0m\u001B[0m\n\u001B[0;32m   1215\u001B[0m \u001B[1;33m\u001B[0m\u001B[0m\n",
      "\u001B[1;32m~\\Anaconda3\\envs\\qcodes\\lib\\site-packages\\pyvisa\\ctwrapper\\highlevel.py\u001B[0m in \u001B[0;36m_return_handler\u001B[1;34m(self, ret_value, func, arguments)\u001B[0m\n\u001B[0;32m    186\u001B[0m \u001B[1;33m\u001B[0m\u001B[0m\n\u001B[0;32m    187\u001B[0m         \u001B[1;32mif\u001B[0m \u001B[0mret_value\u001B[0m \u001B[1;33m<\u001B[0m \u001B[1;36m0\u001B[0m\u001B[1;33m:\u001B[0m\u001B[1;33m\u001B[0m\u001B[1;33m\u001B[0m\u001B[0m\n\u001B[1;32m--> 188\u001B[1;33m             \u001B[1;32mraise\u001B[0m \u001B[0merrors\u001B[0m\u001B[1;33m.\u001B[0m\u001B[0mVisaIOError\u001B[0m\u001B[1;33m(\u001B[0m\u001B[0mret_value\u001B[0m\u001B[1;33m)\u001B[0m\u001B[1;33m\u001B[0m\u001B[1;33m\u001B[0m\u001B[0m\n\u001B[0m\u001B[0;32m    189\u001B[0m \u001B[1;33m\u001B[0m\u001B[0m\n\u001B[0;32m    190\u001B[0m         \u001B[1;32mif\u001B[0m \u001B[0mret_value\u001B[0m \u001B[1;32min\u001B[0m \u001B[0mself\u001B[0m\u001B[1;33m.\u001B[0m\u001B[0missue_warning_on\u001B[0m\u001B[1;33m:\u001B[0m\u001B[1;33m\u001B[0m\u001B[1;33m\u001B[0m\u001B[0m\n",
      "\u001B[1;31mVisaIOError\u001B[0m: VI_ERROR_RSRC_NFOUND (-1073807343): Insufficient location information or the requested device or resource is not present in the system."
     ]
    }
   ],
   "source": [
    "# initialize the lakeshore\n",
    "\n",
    "ls = Model_372('lakeshore_372', 'TCPIP::10.155.95.127::7777::SOCKET')\n",
    "ls.ch01.enabled(False)\n",
    "ls.ch02.enabled(False)\n",
    "ls.ch03.enabled(False)\n",
    "ls.ch05.enabled(False)\n",
    "ls.ch06.enabled(False)\n",
    "for ch in ls.channels:\n",
    "    print(f'Temperature of {ch.short_name} ({\"on\" if ch.enabled() else \"off\"}): {ch.temperature()} {ch.units()}')"
   ]
  },
  {
   "cell_type": "code",
   "execution_count": null,
   "metadata": {},
   "outputs": [],
   "source": [
    "# initialize the AMI\n",
    "\n",
    "from qcodes.instrument_drivers.american_magnetics.AMI430 import AMI430\n",
    "instrument = AMI430(\"testmagnet\", address=\"10.155.94.127\", port=7180, has_current_rating=False)"
   ]
  },
  {
   "cell_type": "code",
   "execution_count": 2,
   "metadata": {},
   "outputs": [
    {
     "ename": "DaqError",
     "evalue": "Device identifier is invalid.\nDevice Specified: testdaq\n\nStatus Code: -200220",
     "output_type": "error",
     "traceback": [
      "\u001B[1;31m---------------------------------------------------------------------------\u001B[0m",
      "\u001B[1;31mDaqError\u001B[0m                                  Traceback (most recent call last)",
      "\u001B[1;32m<ipython-input-2-3bcda43b14b7>\u001B[0m in \u001B[0;36m<module>\u001B[1;34m\u001B[0m\n\u001B[0;32m      1\u001B[0m \u001B[1;31m# initialize the DAQ\u001B[0m\u001B[1;33m\u001B[0m\u001B[1;33m\u001B[0m\u001B[1;33m\u001B[0m\u001B[0m\n\u001B[1;32m----> 2\u001B[1;33m \u001B[0mdaq\u001B[0m \u001B[1;33m=\u001B[0m \u001B[0mDaq\u001B[0m\u001B[1;33m(\u001B[0m\u001B[1;34m\"Dev1\"\u001B[0m\u001B[1;33m,\u001B[0m \u001B[1;34m\"testdaq\"\u001B[0m\u001B[1;33m)\u001B[0m\u001B[1;33m\u001B[0m\u001B[1;33m\u001B[0m\u001B[0m\n\u001B[0m\u001B[0;32m      3\u001B[0m \u001B[1;33m\u001B[0m\u001B[0m\n",
      "\u001B[1;32m~\\MeasureIt\\src\\daq_driver.py\u001B[0m in \u001B[0;36m__init__\u001B[1;34m(self, name, address)\u001B[0m\n\u001B[0;32m     24\u001B[0m         \u001B[0mself\u001B[0m\u001B[1;33m.\u001B[0m\u001B[0mdevice\u001B[0m \u001B[1;33m=\u001B[0m \u001B[0msystem\u001B[0m\u001B[1;33m.\u001B[0m\u001B[0mdevices\u001B[0m\u001B[1;33m[\u001B[0m\u001B[0mself\u001B[0m\u001B[1;33m.\u001B[0m\u001B[0mmy_name\u001B[0m\u001B[1;33m]\u001B[0m\u001B[1;33m\u001B[0m\u001B[1;33m\u001B[0m\u001B[0m\n\u001B[0;32m     25\u001B[0m         \u001B[1;31m# Grab the number of AO, AI channels\u001B[0m\u001B[1;33m\u001B[0m\u001B[1;33m\u001B[0m\u001B[1;33m\u001B[0m\u001B[0m\n\u001B[1;32m---> 26\u001B[1;33m         \u001B[0mself\u001B[0m\u001B[1;33m.\u001B[0m\u001B[0mao_num\u001B[0m \u001B[1;33m=\u001B[0m \u001B[0mlen\u001B[0m\u001B[1;33m(\u001B[0m\u001B[0mself\u001B[0m\u001B[1;33m.\u001B[0m\u001B[0mdevice\u001B[0m\u001B[1;33m.\u001B[0m\u001B[0mao_physical_chans\u001B[0m\u001B[1;33m.\u001B[0m\u001B[0mchannel_names\u001B[0m\u001B[1;33m)\u001B[0m\u001B[1;33m\u001B[0m\u001B[1;33m\u001B[0m\u001B[0m\n\u001B[0m\u001B[0;32m     27\u001B[0m         \u001B[0mself\u001B[0m\u001B[1;33m.\u001B[0m\u001B[0mai_num\u001B[0m \u001B[1;33m=\u001B[0m \u001B[0mlen\u001B[0m\u001B[1;33m(\u001B[0m\u001B[0mself\u001B[0m\u001B[1;33m.\u001B[0m\u001B[0mdevice\u001B[0m\u001B[1;33m.\u001B[0m\u001B[0mai_physical_chans\u001B[0m\u001B[1;33m.\u001B[0m\u001B[0mchannel_names\u001B[0m\u001B[1;33m)\u001B[0m\u001B[1;33m\u001B[0m\u001B[1;33m\u001B[0m\u001B[0m\n\u001B[0;32m     28\u001B[0m \u001B[1;33m\u001B[0m\u001B[0m\n",
      "\u001B[1;32m~\\Anaconda3\\envs\\qcodes\\lib\\site-packages\\nidaqmx\\system\\_collections\\physical_channel_collection.py\u001B[0m in \u001B[0;36mchannel_names\u001B[1;34m(self)\u001B[0m\n\u001B[0;32m    180\u001B[0m                 \u001B[1;32mbreak\u001B[0m\u001B[1;33m\u001B[0m\u001B[1;33m\u001B[0m\u001B[0m\n\u001B[0;32m    181\u001B[0m \u001B[1;33m\u001B[0m\u001B[0m\n\u001B[1;32m--> 182\u001B[1;33m         \u001B[0mcheck_for_error\u001B[0m\u001B[1;33m(\u001B[0m\u001B[0msize_or_code\u001B[0m\u001B[1;33m)\u001B[0m\u001B[1;33m\u001B[0m\u001B[1;33m\u001B[0m\u001B[0m\n\u001B[0m\u001B[0;32m    183\u001B[0m \u001B[1;33m\u001B[0m\u001B[0m\n\u001B[0;32m    184\u001B[0m         \u001B[1;32mreturn\u001B[0m \u001B[0munflatten_channel_string\u001B[0m\u001B[1;33m(\u001B[0m\u001B[0mval\u001B[0m\u001B[1;33m.\u001B[0m\u001B[0mvalue\u001B[0m\u001B[1;33m.\u001B[0m\u001B[0mdecode\u001B[0m\u001B[1;33m(\u001B[0m\u001B[1;34m'ascii'\u001B[0m\u001B[1;33m)\u001B[0m\u001B[1;33m)\u001B[0m\u001B[1;33m\u001B[0m\u001B[1;33m\u001B[0m\u001B[0m\n",
      "\u001B[1;32m~\\Anaconda3\\envs\\qcodes\\lib\\site-packages\\nidaqmx\\errors.py\u001B[0m in \u001B[0;36mcheck_for_error\u001B[1;34m(error_code)\u001B[0m\n\u001B[0;32m    125\u001B[0m         \u001B[0mcfunc\u001B[0m\u001B[1;33m(\u001B[0m\u001B[0merror_buffer\u001B[0m\u001B[1;33m,\u001B[0m \u001B[1;36m2048\u001B[0m\u001B[1;33m)\u001B[0m\u001B[1;33m\u001B[0m\u001B[1;33m\u001B[0m\u001B[0m\n\u001B[0;32m    126\u001B[0m \u001B[1;33m\u001B[0m\u001B[0m\n\u001B[1;32m--> 127\u001B[1;33m         \u001B[1;32mraise\u001B[0m \u001B[0mDaqError\u001B[0m\u001B[1;33m(\u001B[0m\u001B[0merror_buffer\u001B[0m\u001B[1;33m.\u001B[0m\u001B[0mvalue\u001B[0m\u001B[1;33m.\u001B[0m\u001B[0mdecode\u001B[0m\u001B[1;33m(\u001B[0m\u001B[1;34m\"utf-8\"\u001B[0m\u001B[1;33m)\u001B[0m\u001B[1;33m,\u001B[0m \u001B[0merror_code\u001B[0m\u001B[1;33m)\u001B[0m\u001B[1;33m\u001B[0m\u001B[1;33m\u001B[0m\u001B[0m\n\u001B[0m\u001B[0;32m    128\u001B[0m \u001B[1;33m\u001B[0m\u001B[0m\n\u001B[0;32m    129\u001B[0m     \u001B[1;32melif\u001B[0m \u001B[0merror_code\u001B[0m \u001B[1;33m>\u001B[0m \u001B[1;36m0\u001B[0m\u001B[1;33m:\u001B[0m\u001B[1;33m\u001B[0m\u001B[1;33m\u001B[0m\u001B[0m\n",
      "\u001B[1;31mDaqError\u001B[0m: Device identifier is invalid.\nDevice Specified: testdaq\n\nStatus Code: -200220"
     ]
    }
   ],
   "source": [
    "# initialize the DAQ\n",
    "daq = Daq(\"Dev1\", \"testdaq\")"
   ]
  },
  {
   "cell_type": "code",
   "execution_count": 5,
   "outputs": [
    {
     "ename": "KeyError",
     "evalue": "'Another instrument has the name: Dummy1'",
     "output_type": "error",
     "traceback": [
      "\u001B[1;31m---------------------------------------------------------------------------\u001B[0m",
      "\u001B[1;31mKeyError\u001B[0m                                  Traceback (most recent call last)",
      "\u001B[1;32m<ipython-input-5-cc5bdb1ebe21>\u001B[0m in \u001B[0;36m<module>\u001B[1;34m\u001B[0m\n\u001B[1;32m----> 1\u001B[1;33m \u001B[0mdummy1\u001B[0m \u001B[1;33m=\u001B[0m \u001B[0mDummyInstrument\u001B[0m\u001B[1;33m(\u001B[0m\u001B[1;34m\"Dummy1\"\u001B[0m\u001B[1;33m)\u001B[0m\u001B[1;33m\u001B[0m\u001B[1;33m\u001B[0m\u001B[0m\n\u001B[0m\u001B[0;32m      2\u001B[0m \u001B[1;33m\u001B[0m\u001B[0m\n",
      "\u001B[1;32mc:\\users\\elliott runburg\\qcodes\\qcodes\\tests\\instrument_mocks.py\u001B[0m in \u001B[0;36m__init__\u001B[1;34m(self, name, gates, **kwargs)\u001B[0m\n\u001B[0;32m    116\u001B[0m                             \u001B[0mthe\u001B[0m \u001B[0minstrument\u001B[0m\u001B[1;33m\u001B[0m\u001B[1;33m\u001B[0m\u001B[0m\n\u001B[0;32m    117\u001B[0m         \"\"\"\n\u001B[1;32m--> 118\u001B[1;33m         \u001B[0msuper\u001B[0m\u001B[1;33m(\u001B[0m\u001B[1;33m)\u001B[0m\u001B[1;33m.\u001B[0m\u001B[0m__init__\u001B[0m\u001B[1;33m(\u001B[0m\u001B[0mname\u001B[0m\u001B[1;33m,\u001B[0m \u001B[1;33m**\u001B[0m\u001B[0mkwargs\u001B[0m\u001B[1;33m)\u001B[0m\u001B[1;33m\u001B[0m\u001B[1;33m\u001B[0m\u001B[0m\n\u001B[0m\u001B[0;32m    119\u001B[0m \u001B[1;33m\u001B[0m\u001B[0m\n\u001B[0;32m    120\u001B[0m         \u001B[1;31m# make gates\u001B[0m\u001B[1;33m\u001B[0m\u001B[1;33m\u001B[0m\u001B[1;33m\u001B[0m\u001B[0m\n",
      "\u001B[1;32mc:\\users\\elliott runburg\\qcodes\\qcodes\\instrument\\base.py\u001B[0m in \u001B[0;36m__init__\u001B[1;34m(self, name, metadata)\u001B[0m\n\u001B[0;32m    429\u001B[0m                            vals=Anything())\n\u001B[0;32m    430\u001B[0m \u001B[1;33m\u001B[0m\u001B[0m\n\u001B[1;32m--> 431\u001B[1;33m         \u001B[0mself\u001B[0m\u001B[1;33m.\u001B[0m\u001B[0mrecord_instance\u001B[0m\u001B[1;33m(\u001B[0m\u001B[0mself\u001B[0m\u001B[1;33m)\u001B[0m\u001B[1;33m\u001B[0m\u001B[1;33m\u001B[0m\u001B[0m\n\u001B[0m\u001B[0;32m    432\u001B[0m \u001B[1;33m\u001B[0m\u001B[0m\n\u001B[0;32m    433\u001B[0m     \u001B[1;32mdef\u001B[0m \u001B[0mget_idn\u001B[0m\u001B[1;33m(\u001B[0m\u001B[0mself\u001B[0m\u001B[1;33m)\u001B[0m \u001B[1;33m->\u001B[0m \u001B[0mDict\u001B[0m\u001B[1;33m[\u001B[0m\u001B[0mstr\u001B[0m\u001B[1;33m,\u001B[0m \u001B[0mOptional\u001B[0m\u001B[1;33m[\u001B[0m\u001B[0mstr\u001B[0m\u001B[1;33m]\u001B[0m\u001B[1;33m]\u001B[0m\u001B[1;33m:\u001B[0m\u001B[1;33m\u001B[0m\u001B[1;33m\u001B[0m\u001B[0m\n",
      "\u001B[1;32mc:\\users\\elliott runburg\\qcodes\\qcodes\\instrument\\base.py\u001B[0m in \u001B[0;36mrecord_instance\u001B[1;34m(cls, instance)\u001B[0m\n\u001B[0;32m    565\u001B[0m         \u001B[0mexisting_wr\u001B[0m \u001B[1;33m=\u001B[0m \u001B[0mcls\u001B[0m\u001B[1;33m.\u001B[0m\u001B[0m_all_instruments\u001B[0m\u001B[1;33m.\u001B[0m\u001B[0mget\u001B[0m\u001B[1;33m(\u001B[0m\u001B[0mname\u001B[0m\u001B[1;33m)\u001B[0m\u001B[1;33m\u001B[0m\u001B[1;33m\u001B[0m\u001B[0m\n\u001B[0;32m    566\u001B[0m         \u001B[1;32mif\u001B[0m \u001B[0mexisting_wr\u001B[0m \u001B[1;32mand\u001B[0m \u001B[0mexisting_wr\u001B[0m\u001B[1;33m(\u001B[0m\u001B[1;33m)\u001B[0m\u001B[1;33m:\u001B[0m\u001B[1;33m\u001B[0m\u001B[1;33m\u001B[0m\u001B[0m\n\u001B[1;32m--> 567\u001B[1;33m             \u001B[1;32mraise\u001B[0m \u001B[0mKeyError\u001B[0m\u001B[1;33m(\u001B[0m\u001B[1;34m'Another instrument has the name: {}'\u001B[0m\u001B[1;33m.\u001B[0m\u001B[0mformat\u001B[0m\u001B[1;33m(\u001B[0m\u001B[0mname\u001B[0m\u001B[1;33m)\u001B[0m\u001B[1;33m)\u001B[0m\u001B[1;33m\u001B[0m\u001B[1;33m\u001B[0m\u001B[0m\n\u001B[0m\u001B[0;32m    568\u001B[0m \u001B[1;33m\u001B[0m\u001B[0m\n\u001B[0;32m    569\u001B[0m         \u001B[0mcls\u001B[0m\u001B[1;33m.\u001B[0m\u001B[0m_all_instruments\u001B[0m\u001B[1;33m[\u001B[0m\u001B[0mname\u001B[0m\u001B[1;33m]\u001B[0m \u001B[1;33m=\u001B[0m \u001B[0mwr\u001B[0m\u001B[1;33m\u001B[0m\u001B[1;33m\u001B[0m\u001B[0m\n",
      "\u001B[1;31mKeyError\u001B[0m: 'Another instrument has the name: Dummy1'"
     ]
    }
   ],
   "source": [
    "dummy1 = DummyInstrument(\"Dummy1\")"
   ],
   "metadata": {
    "collapsed": false,
    "pycharm": {
     "name": "#%%\n"
    }
   }
  },
  {
   "cell_type": "code",
   "execution_count": 3,
   "metadata": {},
   "outputs": [],
   "source": [
    "daq.ai0.voltage.label=\"I\"\n",
    "daq.ai1.voltage.label=\"Vxx\"\n",
    "#daq.ai2.voltage.label=\"Vxy\"\n",
    "#params = (daq.ai0.voltage)\n",
    "%matplotlib qt"
   ]
  },
  {
   "cell_type": "code",
   "execution_count": null,
   "metadata": {},
   "outputs": [],
   "source": [
    "s = Sweep1D(daq.ao0.voltage, 4, 2, 0.05, inter_delay = 0.2, bidirectional=True, plot_data=False, save_data=False)"
   ]
  },
  {
   "cell_type": "code",
   "execution_count": 7,
   "metadata": {},
   "outputs": [
    {
     "ename": "NameError",
     "evalue": "name 'dummy1' is not defined",
     "output_type": "error",
     "traceback": [
      "\u001B[1;31m---------------------------------------------------------------------------\u001B[0m",
      "\u001B[1;31mNameError\u001B[0m                                 Traceback (most recent call last)",
      "\u001B[1;32m<ipython-input-7-fd46a5f79593>\u001B[0m in \u001B[0;36m<module>\u001B[1;34m\u001B[0m\n\u001B[0;32m      2\u001B[0m \u001B[1;31m# Set the sweep parameters -\u001B[0m\u001B[1;33m\u001B[0m\u001B[1;33m\u001B[0m\u001B[1;33m\u001B[0m\u001B[0m\n\u001B[0;32m      3\u001B[0m \u001B[1;31m# [ Parameter, start point, end point, step ]\u001B[0m\u001B[1;33m\u001B[0m\u001B[1;33m\u001B[0m\u001B[1;33m\u001B[0m\u001B[0m\n\u001B[1;32m----> 4\u001B[1;33m \u001B[0min_params\u001B[0m \u001B[1;33m=\u001B[0m \u001B[1;33m[\u001B[0m\u001B[0mdummy1\u001B[0m\u001B[1;33m.\u001B[0m\u001B[0mdac1\u001B[0m\u001B[1;33m,\u001B[0m \u001B[1;33m-\u001B[0m\u001B[1;36m0.5\u001B[0m\u001B[1;33m,\u001B[0m \u001B[1;36m0\u001B[0m\u001B[1;33m,\u001B[0m \u001B[1;36m0.01\u001B[0m\u001B[1;33m]\u001B[0m\u001B[1;33m\u001B[0m\u001B[1;33m\u001B[0m\u001B[0m\n\u001B[0m\u001B[0;32m      5\u001B[0m \u001B[0mout_params\u001B[0m \u001B[1;33m=\u001B[0m \u001B[1;33m[\u001B[0m\u001B[0mdummy1\u001B[0m\u001B[1;33m.\u001B[0m\u001B[0mdac2\u001B[0m\u001B[1;33m,\u001B[0m \u001B[1;36m1\u001B[0m\u001B[1;33m,\u001B[0m \u001B[1;36m2\u001B[0m\u001B[1;33m,\u001B[0m \u001B[1;36m0.1\u001B[0m\u001B[1;33m]\u001B[0m\u001B[1;33m\u001B[0m\u001B[1;33m\u001B[0m\u001B[0m\n\u001B[0;32m      6\u001B[0m \u001B[0ms2d\u001B[0m \u001B[1;33m=\u001B[0m \u001B[0mSweep2D\u001B[0m\u001B[1;33m(\u001B[0m\u001B[0min_params\u001B[0m\u001B[1;33m,\u001B[0m \u001B[0mout_params\u001B[0m\u001B[1;33m,\u001B[0m \u001B[0minter_delay\u001B[0m \u001B[1;33m=\u001B[0m \u001B[1;36m0.2\u001B[0m\u001B[1;33m,\u001B[0m \u001B[0msave_data\u001B[0m\u001B[1;33m=\u001B[0m\u001B[1;32mFalse\u001B[0m\u001B[1;33m)\u001B[0m\u001B[1;33m\u001B[0m\u001B[1;33m\u001B[0m\u001B[0m\n",
      "\u001B[1;31mNameError\u001B[0m: name 'dummy1' is not defined"
     ]
    }
   ],
   "source": [
    "# testing 2d sweep\n",
    "# Set the sweep parameters -\n",
    "# [ Parameter, start point, end point, step ]\n",
    "in_params = [dummy1.dac1, -0.5, 0, 0.01]\n",
    "out_params = [dummy1.dac2, 1, 2, 0.1]\n",
    "s2d = Sweep2D(in_params, out_params, inter_delay = 0.2, save_data=False)\n",
    "s2d.follow_param(dummy1.dac3)"
   ]
  },
  {
   "cell_type": "code",
   "execution_count": 8,
   "metadata": {},
   "outputs": [
    {
     "ename": "NameError",
     "evalue": "name 's2d' is not defined",
     "output_type": "error",
     "traceback": [
      "\u001B[1;31m---------------------------------------------------------------------------\u001B[0m",
      "\u001B[1;31mNameError\u001B[0m                                 Traceback (most recent call last)",
      "\u001B[1;32m<ipython-input-8-29fd06e724df>\u001B[0m in \u001B[0;36m<module>\u001B[1;34m\u001B[0m\n\u001B[0;32m      1\u001B[0m \u001B[0mget_ipython\u001B[0m\u001B[1;33m(\u001B[0m\u001B[1;33m)\u001B[0m\u001B[1;33m.\u001B[0m\u001B[0mrun_line_magic\u001B[0m\u001B[1;33m(\u001B[0m\u001B[1;34m'matplotlib'\u001B[0m\u001B[1;33m,\u001B[0m \u001B[1;34m'qt'\u001B[0m\u001B[1;33m)\u001B[0m\u001B[1;33m\u001B[0m\u001B[1;33m\u001B[0m\u001B[0m\n\u001B[1;32m----> 2\u001B[1;33m \u001B[0ms2d\u001B[0m\u001B[1;33m.\u001B[0m\u001B[0mstart\u001B[0m\u001B[1;33m(\u001B[0m\u001B[1;33m)\u001B[0m\u001B[1;33m\u001B[0m\u001B[1;33m\u001B[0m\u001B[0m\n\u001B[0m\u001B[0;32m      3\u001B[0m \u001B[1;33m\u001B[0m\u001B[0m\n",
      "\u001B[1;31mNameError\u001B[0m: name 's2d' is not defined"
     ]
    }
   ],
   "source": [
    "%matplotlib qt\n",
    "s2d.start()"
   ]
  },
  {
   "cell_type": "code",
   "execution_count": 7,
   "metadata": {},
   "outputs": [],
   "source": [
    "s2d.kill()\n"
   ]
  },
  {
   "cell_type": "code",
   "execution_count": 20,
   "metadata": {},
   "outputs": [
    {
     "data": {
      "text/plain": "<src.plotter_thread.PlotterThread at 0x20252ec5a68>"
     },
     "execution_count": 20,
     "metadata": {},
     "output_type": "execute_result"
    }
   ],
   "source": [
    "s2d.in_sweep.runner.plotter"
   ]
  },
  {
   "cell_type": "code",
   "execution_count": 21,
   "metadata": {},
   "outputs": [
    {
     "data": {
      "text/plain": "<src.plotter_thread.PlotterThread at 0x202529119d8>"
     },
     "execution_count": 21,
     "metadata": {},
     "output_type": "execute_result"
    }
   ],
   "source": [
    "s2d.in_sweep.plotter"
   ]
  },
  {
   "cell_type": "code",
   "execution_count": 17,
   "metadata": {},
   "outputs": [],
   "source": [
    "s2d.in_sweep.kill()"
   ]
  },
  {
   "cell_type": "code",
   "execution_count": null,
   "metadata": {},
   "outputs": [],
   "source": [
    "s2d.heatmap_plotter.count"
   ]
  },
  {
   "cell_type": "code",
   "execution_count": null,
   "metadata": {},
   "outputs": [],
   "source": [
    "s = Sweep0D(save_data=False)"
   ]
  },
  {
   "cell_type": "code",
   "execution_count": null,
   "metadata": {},
   "outputs": [],
   "source": [
    "s.follow_param(daq.ai0.voltage)"
   ]
  },
  {
   "cell_type": "code",
   "execution_count": null,
   "metadata": {},
   "outputs": [],
   "source": [
    "s.start()"
   ]
  },
  {
   "cell_type": "code",
   "execution_count": null,
   "metadata": {},
   "outputs": [],
   "source": [
    "s.stop()"
   ]
  },
  {
   "cell_type": "code",
   "execution_count": null,
   "metadata": {},
   "outputs": [],
   "source": [
    "s.end\n"
   ]
  },
  {
   "cell_type": "code",
   "execution_count": null,
   "metadata": {},
   "outputs": [],
   "source": [
    "s.begin"
   ]
  },
  {
   "cell_type": "code",
   "execution_count": null,
   "metadata": {},
   "outputs": [],
   "source": [
    "from PyQt5.QtCore import QThread\n",
    "QThread.currentThreadId()"
   ]
  },
  {
   "cell_type": "code",
   "execution_count": null,
   "metadata": {},
   "outputs": [],
   "source": []
  }
 ],
 "metadata": {
  "kernelspec": {
   "name": "pycharm-18777ac3",
   "language": "python",
   "display_name": "PyCharm (MeasureIt)"
  },
  "language_info": {
   "codemirror_mode": {
    "name": "ipython",
    "version": 3
   },
   "file_extension": ".py",
   "mimetype": "text/x-python",
   "name": "python",
   "nbconvert_exporter": "python",
   "pygments_lexer": "ipython3",
   "version": "3.6.8"
  }
 },
 "nbformat": 4,
 "nbformat_minor": 2
}