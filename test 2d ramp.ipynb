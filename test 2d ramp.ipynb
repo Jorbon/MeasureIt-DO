{
 "cells": [
  {
   "cell_type": "code",
   "execution_count": 1,
   "metadata": {},
   "outputs": [],
   "source": [
    "from threaded_sweep import Sweep1D, Sweep0D, Sweep2D\n",
    "from daq_driver import Daq, DaqAOChannel, DaqAIChannel\n",
    "import nidaqmx\n",
    "import time\n",
    "import numpy as np\n",
    "import qcodes as qc\n",
    "from tracking import track_setpoint\n",
    "from qcodes.dataset.measurements import Measurement\n",
    "from qcodes.dataset.database import initialise_or_create_database_at\n",
    "from qcodes.dataset.data_export import get_data_by_id\n",
    "from qcodes.instrument_drivers.Lakeshore.Model_372 import Model_372\n",
    "from qcodes.instrument_drivers.stanford_research.SR860 import SR860"
   ]
  },
  {
   "cell_type": "code",
   "execution_count": null,
   "metadata": {},
   "outputs": [],
   "source": [
    "# initialize the lakeshore\n",
    "\n",
    "ls = Model_372('lakeshore_372', 'TCPIP::10.155.95.127::7777::SOCKET')\n",
    "ls.ch01.enabled(False)\n",
    "ls.ch02.enabled(False)\n",
    "ls.ch03.enabled(False)\n",
    "ls.ch05.enabled(False)\n",
    "ls.ch06.enabled(False)\n",
    "for ch in ls.channels:\n",
    "    print(f'Temperature of {ch.short_name} ({\"on\" if ch.enabled() else \"off\"}): {ch.temperature()} {ch.units()}')"
   ]
  },
  {
   "cell_type": "code",
   "execution_count": null,
   "metadata": {},
   "outputs": [],
   "source": [
    "# initialize the AMI\n",
    "\n",
    "from qcodes.instrument_drivers.american_magnetics.AMI430 import AMI430\n",
    "instrument = AMI430(\"testmagnet\", address=\"10.155.94.127\", port=7180, has_current_rating=False)"
   ]
  },
  {
   "cell_type": "code",
   "execution_count": 2,
   "metadata": {},
   "outputs": [],
   "source": [
    "# initialize the DAQ\n",
    "daq = Daq(\"Dev1\", \"testdaq\")"
   ]
  },
  {
   "cell_type": "code",
   "execution_count": 3,
   "metadata": {},
   "outputs": [],
   "source": [
    "daq.ai0.voltage.label=\"I\"\n",
    "daq.ai1.voltage.label=\"Vxx\"\n",
    "#daq.ai2.voltage.label=\"Vxy\"\n",
    "#params = (daq.ai0.voltage)\n",
    "%matplotlib qt"
   ]
  },
  {
   "cell_type": "code",
   "execution_count": null,
   "metadata": {},
   "outputs": [],
   "source": [
    "s = Sweep1D(daq.ao0.voltage, 4, 2, 0.05, inter_delay = 0.2, bidirectional=True, plot_data=False, save_data=False)"
   ]
  },
  {
   "cell_type": "code",
   "execution_count": 5,
   "metadata": {},
   "outputs": [],
   "source": [
    "# testing 2d sweep\n",
    "# Set the sweep parameters -\n",
    "# [ Parameter, start point, end point, step ]\n",
    "in_params = [daq.ao0.voltage, 0, 0.5, 0.01]\n",
    "out_params = [daq.ao1.voltage, 0, 1, 0.1]\n",
    "s2d = Sweep2D(in_params, out_params, inter_delay = 0.05, save_data=False)\n",
    "s2d.follow_param(daq.ai0.voltage, daq.ai1.voltage, daq.ai2.voltage)\n",
    "s2d.set_update_rule(lambda s, l: track_setpoint(s, l, 0.250, steps=15))\n",
    "s2d._create_measurement()\n"
   ]
  },
  {
   "cell_type": "code",
   "execution_count": 6,
   "metadata": {},
   "outputs": [
    {
     "name": "stdout",
     "output_type": "stream",
     "text": [
      "Starting the 2D Sweep. Ramping ao1 Voltage to 1 V, while sweeping ao0 Voltage between 0 V and 0.5 V\n",
      "Ramping to our starting setpoint value of 0 V\n",
      "Done ramping ao0 Voltage to 0\n",
      "Sweeping ao0 Voltage to 0.5 V\n",
      "Done with the sweep, ao0 Voltage=-8.673617379884035e-17\n",
      "called heatmap from thread: <sip.voidptr object at 0x0000013F15EA7A80>\n",
      "Setting ao1 Voltage to 0.1 V\n",
      "Ramping to our starting setpoint value of 0.175 V\n",
      "Sweeping ao0 Voltage to 0.175 V\n",
      "Ramping ao0 Voltage to 0.175 . . . \n",
      "Done with the sweep, ao0 Voltage=0.17999999999999994\n",
      "Done ramping ao0 Voltage to 0.175\n",
      "Sweeping ao0 Voltage to 0.32499999999999996 V\n",
      "Done with the sweep, ao0 Voltage=0.175\n",
      "called heatmap from thread: <sip.voidptr object at 0x0000013F1889AF30>\n",
      "Setting ao1 Voltage to 0.2 V\n",
      "Ramping to our starting setpoint value of 0.18000000000000005 V\n",
      "Sweeping ao0 Voltage to 0.18000000000000005 V\n",
      "Ramping ao0 Voltage to 0.18000000000000005 . . . \n",
      "Done with the sweep, ao0 Voltage=0.185\n",
      "Done ramping ao0 Voltage to 0.18000000000000005\n",
      "Sweeping ao0 Voltage to 0.33000000000000007 V\n",
      "Done with the sweep, ao0 Voltage=0.18000000000000005\n",
      "called heatmap from thread: <sip.voidptr object at 0x0000013F18CA6EB8>\n",
      "Setting ao1 Voltage to 0.30000000000000004 V\n",
      "Ramping to our starting setpoint value of 0.1750000000000001 V\n",
      "Done ramping ao0 Voltage to 0.1750000000000001\n",
      "Sweeping ao0 Voltage to 0.32500000000000007 V\n",
      "Done with the sweep, ao0 Voltage=0.1750000000000001\n",
      "called heatmap from thread: <sip.voidptr object at 0x0000013F1889A800>\n",
      "Setting ao1 Voltage to 0.4 V\n",
      "Ramping to our starting setpoint value of 0.18000000000000016 V\n",
      "Sweeping ao0 Voltage to 0.18000000000000016 V\n",
      "Ramping ao0 Voltage to 0.18000000000000016 . . . \n",
      "Done with the sweep, ao0 Voltage=0.1850000000000001\n",
      "Done ramping ao0 Voltage to 0.18000000000000016\n",
      "Sweeping ao0 Voltage to 0.3300000000000002 V\n",
      "Done with the sweep, ao0 Voltage=0.18000000000000016\n",
      "called heatmap from thread: <sip.voidptr object at 0x0000013F18821940>\n",
      "Setting ao1 Voltage to 0.5 V\n",
      "Ramping to our starting setpoint value of 0.1750000000000002 V\n",
      "Done ramping ao0 Voltage to 0.1750000000000002\n",
      "Sweeping ao0 Voltage to 0.3250000000000002 V\n",
      "Done with the sweep, ao0 Voltage=0.1750000000000002\n",
      "called heatmap from thread: <sip.voidptr object at 0x0000013F18821F58>\n",
      "Setting ao1 Voltage to 0.6 V\n",
      "Ramping to our starting setpoint value of 0.18000000000000027 V\n",
      "Sweeping ao0 Voltage to 0.18000000000000027 V\n",
      "Ramping ao0 Voltage to 0.18000000000000027 . . . \n",
      "Done with the sweep, ao0 Voltage=0.18500000000000022\n",
      "Done ramping ao0 Voltage to 0.18000000000000027\n",
      "Sweeping ao0 Voltage to 0.3300000000000003 V\n",
      "Done with the sweep, ao0 Voltage=0.18000000000000027\n",
      "called heatmap from thread: <sip.voidptr object at 0x0000013F18C50170>\n",
      "Setting ao1 Voltage to 0.7 V\n",
      "Ramping to our starting setpoint value of 0.17500000000000032 V\n",
      "Done ramping ao0 Voltage to 0.17500000000000032\n",
      "Sweeping ao0 Voltage to 0.3250000000000003 V\n",
      "Done with the sweep, ao0 Voltage=0.17500000000000032\n",
      "called heatmap from thread: <sip.voidptr object at 0x0000013F1A390D00>\n",
      "Setting ao1 Voltage to 0.7999999999999999 V\n",
      "Ramping to our starting setpoint value of 0.18000000000000038 V\n",
      "Sweeping ao0 Voltage to 0.18000000000000038 V\n",
      "Ramping ao0 Voltage to 0.18000000000000038 . . . \n",
      "Done with the sweep, ao0 Voltage=0.18500000000000033\n",
      "Done ramping ao0 Voltage to 0.18000000000000038\n",
      "Sweeping ao0 Voltage to 0.3300000000000004 V\n",
      "Done with the sweep, ao0 Voltage=0.18000000000000038\n",
      "called heatmap from thread: <sip.voidptr object at 0x0000013F1A390698>\n",
      "Setting ao1 Voltage to 0.8999999999999999 V\n",
      "Ramping to our starting setpoint value of 0.17500000000000043 V\n",
      "Done ramping ao0 Voltage to 0.17500000000000043\n",
      "Sweeping ao0 Voltage to 0.3250000000000004 V\n",
      "Done with the sweep, ao0 Voltage=0.17500000000000043\n",
      "called heatmap from thread: <sip.voidptr object at 0x0000013F1A3906C0>\n",
      "Setting ao1 Voltage to 0.9999999999999999 V\n",
      "Ramping to our starting setpoint value of 0.1800000000000005 V\n",
      "Sweeping ao0 Voltage to 0.1800000000000005 V\n",
      "Ramping ao0 Voltage to 0.1800000000000005 . . . \n",
      "Done with the sweep, ao0 Voltage=0.18500000000000044\n",
      "Done ramping ao0 Voltage to 0.1800000000000005\n",
      "Sweeping ao0 Voltage to 0.3300000000000005 V\n",
      "Done with the sweep, ao0 Voltage=0.1800000000000005\n",
      "called heatmap from thread: <sip.voidptr object at 0x0000013F1A9D8DF0>\n"
     ]
    }
   ],
   "source": [
    "%matplotlib qt\n",
    "s2d.start()"
   ]
  },
  {
   "cell_type": "code",
   "execution_count": null,
   "metadata": {},
   "outputs": [],
   "source": [
    "s2d.is_running\n"
   ]
  },
  {
   "cell_type": "code",
   "execution_count": null,
   "metadata": {},
   "outputs": [],
   "source": [
    "s2d.heatmap_plotter.heatmap_data[6]"
   ]
  },
  {
   "cell_type": "code",
   "execution_count": null,
   "metadata": {},
   "outputs": [],
   "source": [
    "s2d.stop()"
   ]
  },
  {
   "cell_type": "code",
   "execution_count": null,
   "metadata": {},
   "outputs": [],
   "source": [
    "s2d.heatmap_plotter.in_keys"
   ]
  },
  {
   "cell_type": "code",
   "execution_count": null,
   "metadata": {},
   "outputs": [],
   "source": [
    "s2d.heatmap_plotter.count"
   ]
  },
  {
   "cell_type": "code",
   "execution_count": null,
   "metadata": {},
   "outputs": [],
   "source": [
    "s = Sweep0D(save_data=False)"
   ]
  },
  {
   "cell_type": "code",
   "execution_count": null,
   "metadata": {},
   "outputs": [],
   "source": [
    "s.follow_param(daq.ai0.voltage)"
   ]
  },
  {
   "cell_type": "code",
   "execution_count": null,
   "metadata": {},
   "outputs": [],
   "source": [
    "s.start()"
   ]
  },
  {
   "cell_type": "code",
   "execution_count": null,
   "metadata": {},
   "outputs": [],
   "source": [
    "s.stop()"
   ]
  },
  {
   "cell_type": "code",
   "execution_count": null,
   "metadata": {},
   "outputs": [],
   "source": [
    "s.end\n"
   ]
  },
  {
   "cell_type": "code",
   "execution_count": null,
   "metadata": {},
   "outputs": [],
   "source": [
    "s.begin"
   ]
  },
  {
   "cell_type": "code",
   "execution_count": null,
   "metadata": {},
   "outputs": [],
   "source": [
    "from PyQt5.QtCore import QThread\n",
    "QThread.currentThreadId()"
   ]
  },
  {
   "cell_type": "code",
   "execution_count": null,
   "metadata": {},
   "outputs": [],
   "source": []
  }
 ],
 "metadata": {
  "kernelspec": {
   "display_name": "Python 3",
   "language": "python",
   "name": "python3"
  },
  "language_info": {
   "codemirror_mode": {
    "name": "ipython",
    "version": 3
   },
   "file_extension": ".py",
   "mimetype": "text/x-python",
   "name": "python",
   "nbconvert_exporter": "python",
   "pygments_lexer": "ipython3",
   "version": "3.6.8"
  }
 },
 "nbformat": 4,
 "nbformat_minor": 2
}
