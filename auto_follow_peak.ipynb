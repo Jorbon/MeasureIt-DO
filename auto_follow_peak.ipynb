{
 "cells": [
  {
   "cell_type": "code",
   "execution_count": 2,
   "metadata": {},
   "outputs": [],
   "source": [
    "from threaded_sweep import Sweep1D, Sweep0D, Sweep2D\n",
    "from daq_driver import Daq, DaqAOChannel, DaqAIChannel\n",
    "import nidaqmx\n",
    "import numpy as np\n",
    "import qcodes as qc\n",
    "import time\n",
    "from qcodes.dataset.measurements import Measurement\n",
    "from qcodes.dataset.database import initialise_or_create_database_at\n",
    "from qcodes.dataset.data_export import get_data_by_id"
   ]
  },
  {
   "cell_type": "code",
   "execution_count": 3,
   "metadata": {},
   "outputs": [],
   "source": [
    "# initialize the DAQ\n",
    "daq = Daq(\"Dev1\", \"testdaq\")"
   ]
  },
  {
   "cell_type": "code",
   "execution_count": 4,
   "metadata": {},
   "outputs": [],
   "source": [
    "# Initialize the database you want to save data to\n",
    "try:\n",
    "    experimentName = 'test_thread_sweep2d'\n",
    "    sampleName = '0'\n",
    "    initialise_or_create_database_at('C:\\\\Users\\\\Nanouser\\\\Documents\\\\MeasureIt\\\\Databases\\\\Carbon_resistor_wo_filter.db')\n",
    "    qc.new_experiment(name=experimentName, sample_name=sampleName)\n",
    "except:\n",
    "    print(\"Error opening database\")\n",
    "    daq.device.reset_device()\n",
    "    daq.__del__()\n",
    "    quit()"
   ]
  },
  {
   "cell_type": "code",
   "execution_count": 5,
   "metadata": {},
   "outputs": [],
   "source": [
    "daq.ai0.voltage.label=\"I\"\n",
    "daq.ai1.voltage.label=\"Vxx\"\n",
    "\n",
    "%matplotlib qt"
   ]
  },
  {
   "cell_type": "code",
   "execution_count": null,
   "metadata": {},
   "outputs": [],
   "source": [
    "# testing 2d sweep\n",
    "# Set the sweep parameters -\n",
    "# [ Parameter, start point, end point, step ]\n",
    "in_params = [daq.ao0.voltage, 0, 1, 0.01]\n",
    "out_params = [daq.ao1.voltage, 0, 1, 0.1]\n",
    "s = Sweep2D(in_params, out_params, inter_delay = 0.05)\n",
    "s.follow_param(daq.ai0.voltage, daq.ai1.voltage, daq.ai2.voltage)\n",
    "s._create_measurement()"
   ]
  },
  {
   "cell_type": "code",
   "execution_count": null,
   "metadata": {},
   "outputs": [],
   "source": [
    "s.start()"
   ]
  }
 ],
 "metadata": {
  "kernelspec": {
   "display_name": "Python 3",
   "language": "python",
   "name": "python3"
  },
  "language_info": {
   "codemirror_mode": {
    "name": "ipython",
    "version": 3
   },
   "file_extension": ".py",
   "mimetype": "text/x-python",
   "name": "python",
   "nbconvert_exporter": "python",
   "pygments_lexer": "ipython3",
   "version": "3.6.8"
  }
 },
 "nbformat": 4,
 "nbformat_minor": 2
}
