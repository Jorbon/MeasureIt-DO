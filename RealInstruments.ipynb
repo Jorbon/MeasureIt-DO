{
 "cells": [
  {
   "cell_type": "markdown",
   "metadata": {},
   "source": [
    "This notebook sweeps the SMU Keithley 2450, based on Joe's dummy instruments demo"
   ]
  },
  {
   "cell_type": "code",
   "execution_count": 1,
   "metadata": {},
   "outputs": [],
   "source": [
    "import time\n",
    "import numpy as np\n",
    "import qcodes as qc\n",
    "from qcodes.dataset.measurements import Measurement\n",
    "from qcodes.instrument_drivers.tektronix.Keithley_2450 import Keithley_2450\n",
    "from qcodes.tests.instrument_mocks import DummyInstrument"
   ]
  },
  {
   "cell_type": "markdown",
   "metadata": {},
   "source": [
    "Now we will create an instance of the class Keithley"
   ]
  },
  {
   "cell_type": "code",
   "execution_count": 2,
   "metadata": {},
   "outputs": [],
   "source": [
    "Keith = Keithley_2450('Keith', 'USB0::0x05E6::0x2450::04358606::INSTR')"
   ]
  },
  {
   "cell_type": "markdown",
   "metadata": {},
   "source": [
    "First a test to see that the Keithley 2450 works"
   ]
  },
  {
   "cell_type": "code",
   "execution_count": 3,
   "metadata": {
    "scrolled": true
   },
   "outputs": [
    {
     "name": "stdout",
     "output_type": "stream",
     "text": [
      "-1.268326E-12\n"
     ]
    }
   ],
   "source": [
    "Keith.rangev(20)\n",
    "Keith.volt(1)\n",
    "Keith.curr()\n",
    "#x=Keith.sense()\n",
    "dac.ch1.step = 0.1\n",
    "dac.ch1.inter_delay = 0.001"
   ]
  },
  {
   "cell_type": "markdown",
   "metadata": {},
   "source": [
    "Start a new experiment that will go in the current database"
   ]
  },
  {
   "cell_type": "code",
   "execution_count": 4,
   "metadata": {},
   "outputs": [
    {
     "data": {
      "text/plain": [
       "demotest3#my best sample3#18@./experiments.db\n",
       "---------------------------------------------"
      ]
     },
     "execution_count": 4,
     "metadata": {},
     "output_type": "execute_result"
    }
   ],
   "source": [
    "qc.new_experiment(name='demotest3', sample_name='my best sample3')"
   ]
  },
  {
   "cell_type": "markdown",
   "metadata": {},
   "source": [
    "Class Sweep to sweep and then plot data, should work for any intrument"
   ]
  },
  {
   "cell_type": "code",
   "execution_count": 5,
   "metadata": {},
   "outputs": [],
   "source": [
    "# %load sweep.py\n",
    "import io\n",
    "import time\n",
    "import numpy as np\n",
    "import matplotlib.pyplot as plt\n",
    "from matplotlib.ticker import ScalarFormatter\n",
    "import qcodes as qc\n",
    "from qcodes.dataset.measurements import Measurement\n",
    "from IPython import display\n",
    "\n",
    "\n",
    "class Sweep(object):\n",
    "    def __init__(self):\n",
    "        self._params = []\n",
    "    \n",
    "    def follow_param(self, p):\n",
    "        self._params.append(p)\n",
    "\n",
    "    def _create_measurement(self, *set_params):\n",
    "        meas = Measurement()\n",
    "        for p in set_params:\n",
    "            meas.register_parameter(p)\n",
    "        meas.register_custom_parameter('time', label='Time', unit='s')\n",
    "        for p in self._params:\n",
    "            meas.register_parameter(p, setpoints=(*set_params, 'time',))\n",
    "        return meas\n",
    "    \n",
    "    def sweep(self, set_param, vals, inter_delay=None):\n",
    "        if inter_delay is not None:\n",
    "            d = len(vals)*inter_delay\n",
    "            h, m, s = int(d/3600), int(d/60) % 60, int(d) % 60\n",
    "            print(f'Minimum duration: {h}h {m}m {s}s')\n",
    "\n",
    "        fig = plt.figure(figsize=(4*(2 + len(self._params)),4))\n",
    "        grid = plt.GridSpec(4, 1 + len(self._params), hspace=0)\n",
    "        setax = fig.add_subplot(grid[:, 0])\n",
    "        setax.set_xlabel('Time (s)')\n",
    "        setax.set_ylabel(f'{set_param.label} ({set_param.unit})')\n",
    "        setaxline = setax.plot([], [])[0]\n",
    "\n",
    "        paxs = []\n",
    "        plines = []\n",
    "        for i, p in enumerate(self._params):\n",
    "            ax = fig.add_subplot(grid[:, 1 + i])\n",
    "            ax.set_xlabel(f'{set_param.label} ({set_param.unit})')\n",
    "            ax.set_ylabel(f'{p.label} ({p.unit})')\n",
    "            paxs.append(ax)\n",
    "            plines.append(ax.plot([], [])[0])\n",
    "\n",
    "        laxs = []\n",
    "        llines = []\n",
    "\n",
    "\n",
    "        fig.tight_layout()\n",
    "        fig.show()\n",
    "\n",
    "        meas = self._create_measurement(set_param)\n",
    "        with meas.run() as datasaver:\n",
    "            try:\n",
    "                t0 = time.monotonic()\n",
    "                for setpoint in vals:\n",
    "                    t = time.monotonic() - t0\n",
    "                    set_param.set(setpoint)\n",
    "\n",
    "                    setaxline.set_xdata(np.append(setaxline.get_xdata(), t))\n",
    "                    setaxline.set_ydata(np.append(setaxline.get_ydata(), setpoint))\n",
    "                    setax.relim()\n",
    "                    setax.autoscale_view()\n",
    "\n",
    "                    if inter_delay is not None:\n",
    "                        plt.pause(inter_delay)\n",
    "\n",
    "                    data = [\n",
    "                        (set_param, setpoint),\n",
    "                        ('time', t)\n",
    "                        ]\n",
    "                    for i, p in enumerate(self._params):\n",
    "                        v = p.get()\n",
    "                        data.append((p, v))\n",
    "                        plines[i].set_xdata(np.append(plines[i].get_xdata(), setpoint))\n",
    "                        plines[i].set_ydata(np.append(plines[i].get_ydata(), v))\n",
    "                        paxs[i].relim()\n",
    "                        paxs[i].autoscale_view()\n",
    "\n",
    "                    datasaver.add_result(*data)\n",
    "\n",
    "                    fig.tight_layout()\n",
    "                    fig.canvas.draw()\n",
    "                    plt.pause(0.001)\n",
    "\n",
    "                d = time.monotonic() - t0\n",
    "                h, m, s = int(d/3600), int(d/60) % 60, int(d) % 60\n",
    "                print(f'Completed in: {h}h {m}m {s}s')\n",
    "\n",
    "                b = io.BytesIO()\n",
    "                fig.savefig(b, format='png')\n",
    "                display.display(display.Image(data=b.getbuffer(), format='png'))\n",
    "            except KeyboardInterrupt:\n",
    "                print('At stoppage')\n",
    "                for i,p in enumerate(data): \n",
    "                    print(data[i][0],'is equal to',data[i][1])                   \n",
    "                pass"
   ]
  },
  {
   "cell_type": "markdown",
   "metadata": {},
   "source": [
    "This sets data to be plotted in a separate window from the notebook"
   ]
  },
  {
   "cell_type": "code",
   "execution_count": null,
   "metadata": {},
   "outputs": [],
   "source": [
    "%matplotlib qt"
   ]
  },
  {
   "cell_type": "markdown",
   "metadata": {},
   "source": [
    "Sets an instance of the class sweep <br>\n",
    "Adds the parameter to measure <br>\n",
    "Runs the function sweep with voltages as the sweep parameter"
   ]
  },
  {
   "cell_type": "code",
   "execution_count": 54,
   "metadata": {
    "scrolled": true
   },
   "outputs": [
    {
     "name": "stdout",
     "output_type": "stream",
     "text": [
      "Minimum duration: 0h 0m 1s\n",
      "Starting experimental run with id: 144\n",
      "3.378654E-12\n",
      "2.305942E-12\n",
      "2.557239E-12\n",
      "2.743102E-12\n",
      "2.602478E-12\n",
      "2.498765E-12\n",
      "2.290627E-12\n",
      "3.251961E-12\n",
      "3.051480E-12\n",
      "2.070655E-12\n",
      "2.937317E-12\n",
      "2.576034E-12\n",
      "2.642165E-12\n",
      "3.208795E-12\n",
      "2.009396E-12\n",
      "2.657478E-12\n",
      "3.167731E-12\n",
      "1.458074E-12\n",
      "3.020140E-12\n",
      "2.504335E-12\n",
      "1.877112E-12\n",
      "1.884097E-12\n",
      "2.924086E-12\n",
      "2.927572E-12\n",
      "2.960289E-12\n",
      "3.455666E-12\n",
      "5.698323E-13\n",
      "3.984247E-12\n",
      "2.055309E-12\n",
      "-7.553125E-12\n",
      "1.452472E-12\n",
      "3.978648E-12\n",
      "7.729632E-12\n",
      "2.788583E-13\n",
      "6.296982E-13\n",
      "1.872263E-12\n",
      "3.223367E-12\n",
      "5.199374E-12\n",
      "5.438162E-12\n",
      "2.222993E-12\n",
      "1.406955E-12\n",
      "1.689714E-12\n",
      "4.467127E-12\n",
      "3.645181E-12\n",
      "2.189414E-12\n",
      "2.805549E-12\n",
      "8.774281E-13\n",
      "1.595905E-12\n",
      "1.721207E-12\n",
      "1.650898E-12\n",
      "At stoppage\n",
      "Keith_volt is equal to 0.505050505051\n",
      "time is equal to 40.85899999999674\n"
     ]
    }
   ],
   "source": [
    "s = Sweep()\n",
    "s.follow_param(Keith.curr)\n",
    "s.sweep(Keith.volt, np.linspace(0, 1, 100), inter_delay=.01)"
   ]
  },
  {
   "cell_type": "code",
   "execution_count": null,
   "metadata": {},
   "outputs": [],
   "source": [
    "Now we have created "
   ]
  },
  {
   "cell_type": "code",
   "execution_count": 7,
   "metadata": {},
   "outputs": [
    {
     "data": {
      "text/plain": [
       "[demo#my best sample#1@./experiments.db\n",
       " --------------------------------------\n",
       " 1-results-1-dac_ch1,time,dmm_ig,dmm_idc-10\n",
       " 2-results-2-dac_ch1,dac_ch2,dmm_ig-100\n",
       " 3-results-3-dac_ch1,time,dmm_ig,dmm_idc-10,\n",
       " demo#my best sample#2@./experiments.db\n",
       " --------------------------------------\n",
       " 4-results-1-dac_ch1,time,dmm_ig,dmm_idc-10\n",
       " 5-results-2-x,y-10\n",
       " 6-results-3-dac_ch1,time,dmm_ig,dmm_idc-10\n",
       " 7-results-4-dac_ch1,time,dmm_ig,dmm_idc-10\n",
       " 8-results-5-dac_ch1,time,dmm_ig,dmm_idc-10\n",
       " 9-results-6-dac_ch1,time,dmm_ig,dmm_idc-10\n",
       " 10-results-7-x,y-10\n",
       " 11-results-8-dac_ch1,time,dmm_ig,dmm_idc-10\n",
       " 12-results-9-dac_ch1,time,dmm_ig,dmm_idc-10\n",
       " 13-results-10-dac_ch1,time,dmm_ig,dmm_idc-10\n",
       " 14-results-11-dac_ch1,time,dmm_ig,dmm_idc-10\n",
       " 15-results-12-dac_ch1,time,dmm_ig,dmm_idc-20\n",
       " 16-results-13-dac_ch1,time,dmm_ig,dmm_idc-10\n",
       " 17-results-14-dac_ch1,time,dmm_ig-10\n",
       " 18-results-15-x,y-10\n",
       " 19-results-16-dac_ch1,time,dmm_ig,dmm_idc-10\n",
       " 20-results-17-dac_ch1,time,dmm_ig,dmm_idc-10\n",
       " 21-results-18-dac_ch1,time,dmm_ig,dmm_idc-10\n",
       " 22-results-19-dac_ch1,time,dmm_ig,dmm_idc-20\n",
       " 23-results-20-dac_ch1,time,dmm_ig,dmm_idc-10\n",
       " 24-results-21-dac_ch1,time,dmm_ig-10\n",
       " 25-results-22-dac_ch1,time,dmm_ig,dmm_idc-6\n",
       " 26-results-23-dac_ch1,time,dmm_ig,dmm_idc-10\n",
       " 27-results-24-dac_ch1,time,dmm_ig,dmm_idc-10\n",
       " 28-results-25-dac_ch1,time,dmm_ig,dmm_idc-20\n",
       " 29-results-26-dac_ch1,time,dmm_ig,dmm_idc-7\n",
       " 30-results-27-dac_ch1,time,dmm_ig,dmm_idc-3\n",
       " 31-results-28-dac_ch1,time,dmm_ig,dmm_idc-1\n",
       " 32-results-29-dac_ch1,time,dmm_ig,dmm_idc-10\n",
       " 33-results-30-dac_ch1,time,dmm_ig,dmm_idc-10\n",
       " 34-results-31-dac_ch1,time,dmm_ig,dmm_idc-20\n",
       " 35-results-32-dac_ch1,time,dmm_ig,dmm_idc-6\n",
       " 36-results-33-dac_ch1,time,dmm_ig,dmm_idc-10\n",
       " 37-results-34-dac_ch1,time,dmm_ig,dmm_idc-10\n",
       " 38-results-35-dac_ch1,time,dmm_ig,dmm_idc-9\n",
       " 39-results-36-dac_ch1,time,dmm_ig,dmm_idc-6\n",
       " 40-results-37-dac_ch1,time,dmm_ig,dmm_idc-15\n",
       " 41-results-38-dac_ch1,time,dmm_ig,dmm_idc-11\n",
       " 42-results-39-dac_ch1,time,dmm_ig,dmm_idc-10\n",
       " 43-results-40-dac_ch1,time,dmm_ig,dmm_idc-3\n",
       " 44-results-41-x,y-10,\n",
       " defmo#my besft sample#3@./experiments.db\n",
       " ----------------------------------------\n",
       " 45-results-1-x,y-10\n",
       " 46-results-2-x,y-0\n",
       " 47-results-3-x,y-0\n",
       " 48-results-4-x,y-0\n",
       " 49-results-5-x,y-0\n",
       " 50-results-6-x,y-10\n",
       " 51-results-7-x,y-0\n",
       " 52-results-8-dac_ch1,time,dmm_ig,dmm_idc-10\n",
       " 53-results-9-dac_ch1,time,dmm_ig,dmm_idc-0\n",
       " 54-results-10-dac_ch1,time,dmm_ig,dmm_idc-0\n",
       " 55-results-11-dac_ch1,time,dmm_ig,dmm_idc-0\n",
       " 56-results-12-dac_ch1,time,dmm_ig,dmm_idc-10\n",
       " 57-results-13-dac_ch1,time,dmm_ig,dmm_idc-0\n",
       " 58-results-14-dac_ch1,time,dmm_ig,dmm_idc-0\n",
       " 59-results-15-dac_ch1,time,dmm_ig,dmm_idc-10\n",
       " 60-results-16-dac_ch1,time,dmm_ig,dmm_idc-0\n",
       " 61-results-17-dac_ch1,time,dmm_ig,dmm_idc-0,\n",
       " demo#my best sample#4@./experiments.db\n",
       " --------------------------------------,\n",
       " demotest#my best sample#5@./experiments.db\n",
       " ------------------------------------------\n",
       " 62-results-1-dac_ch1,time,dmm_ig,dmm_idc-10\n",
       " 63-results-2-dac_ch1,time,dmm_ig,dmm_idc-5\n",
       " 64-results-3-dac_ch1,time,dmm_ig,dmm_idc-3\n",
       " 65-results-4-dac_ch1,time,dmm_ig,dmm_idc-3\n",
       " 66-results-5-dac_ch1,time,dmm_ig,dmm_idc-7\n",
       " 67-results-6-dac_ch1,time,dmm_ig,dmm_idc-3\n",
       " 68-results-7-dac_ch1,time,dmm_ig,dmm_idc-3\n",
       " 69-results-8-dac_ch1,time,dmm_ig,dmm_idc-4\n",
       " 70-results-9-dac_ch1,time,dmm_ig,dmm_idc-10\n",
       " 71-results-10-dac_ch1,time,dmm_ig,dmm_idc-8\n",
       " 72-results-11-dac_ch1,time,dmm_ig,dmm_idc-10\n",
       " 73-results-12-dac_ch1,time,dmm_ig,dmm_idc-4\n",
       " 74-results-13-dac_ch1,time,dmm_ig,dmm_idc-10\n",
       " 75-results-14-dac_ch1,time,dmm_ig,dmm_idc-10\n",
       " 76-results-15-dac_ch1,time,dmm_ig,dmm_idc-4\n",
       " 77-results-16-dac_ch1,time,dmm_ig,dmm_idc-4\n",
       " 78-results-17-dac_ch1,time,dmm_ig,dmm_idc-2\n",
       " 79-results-18-dac_ch1,time,dmm_ig,dmm_idc-5\n",
       " 80-results-19-dac_ch1,time,dmm_ig,dmm_idc-4\n",
       " 81-results-20-dac_ch1,time,dmm_ig,dmm_idc-3\n",
       " 82-results-21-dac_ch1,time,dmm_ig,dmm_idc-3\n",
       " 83-results-22-dac_ch1,time,dmm_ig,dmm_idc-3\n",
       " 84-results-23-dac_ch1,time,dmm_ig,dmm_idc-2\n",
       " 85-results-24-dac_ch1,time,dmm_ig,dmm_idc-10\n",
       " 86-results-25-dac_ch1,time,dmm_ig,dmm_idc-2\n",
       " 87-results-26-dac_ch1,time,dmm_ig,dmm_idc-3\n",
       " 88-results-27-dac_ch1,time,dmm_ig,dmm_idc-4\n",
       " 89-results-28-dac_ch1,time,dmm_ig,dmm_idc-10\n",
       " 90-results-29-dac_ch1,time,dmm_ig,dmm_idc-2\n",
       " 91-results-30-dac_ch1,time,dmm_ig,dmm_idc-2\n",
       " 92-results-31-dac_ch1,time,dmm_ig,dmm_idc-2\n",
       " 93-results-32-dac_ch1,time,dmm_ig,dmm_idc-4\n",
       " 94-results-33-dac_ch1,time,dmm_ig,dmm_idc-2\n",
       " 95-results-34-dac_ch1,time,dmm_ig,dmm_idc-2\n",
       " 96-results-35-dac_ch1,time,dmm_ig,dmm_idc-3\n",
       " 97-results-36-dac_ch1,time,dmm_ig,dmm_idc-3\n",
       " 98-results-37-dac_ch1,time,dmm_ig,dmm_idc-2\n",
       " 99-results-38-dac_ch1,time,dmm_ig,dmm_idc-10\n",
       " 100-results-39-dac_ch1,time,dmm_ig,dmm_idc-0\n",
       " 101-results-40-dac_ch1,time,dmm_ig,dmm_idc-2\n",
       " 102-results-41-dac_ch1,time,dmm_ig,dmm_idc-4\n",
       " 103-results-42-dac_ch1,time,dmm_ig,dmm_idc-2\n",
       " 104-results-43-dac_ch1,time,dmm_ig,dmm_idc-4\n",
       " 105-results-44-dac_ch1,time,dmm_ig,dmm_idc-2\n",
       " 106-results-45-dac_ch1,time,dmm_ig,dmm_idc-3\n",
       " 107-results-46-dac_ch1,time,dmm_ig,dmm_idc-4\n",
       " 108-results-47-dac_ch1,time,dmm_ig,dmm_idc-4,\n",
       " demotest#my best sample#6@./experiments.db\n",
       " ------------------------------------------,\n",
       " demotest#my best sample#7@./experiments.db\n",
       " ------------------------------------------,\n",
       " demotest#my best sample#8@./experiments.db\n",
       " ------------------------------------------,\n",
       " demotest#my best sample#9@./experiments.db\n",
       " ------------------------------------------,\n",
       " demotest#my best sample#10@./experiments.db\n",
       " -------------------------------------------\n",
       " 109-results-1-dac_ch1,time,Keith_curr-0\n",
       " 110-results-2-dac_ch1,time,Keith_curr-10\n",
       " 111-results-3-dac_ch1,time,Keith_curr-10\n",
       " 112-results-4-Keith_volt,time,Keith_curr-8\n",
       " 113-results-5-Keith_volt,time,Keith_curr-9\n",
       " 114-results-6-Keith_volt,time,Keith_curr-8\n",
       " 115-results-7-Keith_volt,time,Keith_curr-10\n",
       " 116-results-8-Keith_volt,time,Keith_curr-5\n",
       " 117-results-9-Keith_volt,time,Keith_curr-4\n",
       " 118-results-10-Keith_volt,time,Keith_curr-10,\n",
       " demotest#my best sample#11@./experiments.db\n",
       " -------------------------------------------\n",
       " 119-results-1-Keith_volt,time,Keith_curr-10\n",
       " 120-results-2-Keith_volt,time,Keith_curr-10\n",
       " 121-results-3-Keith_volt,time,Keith_curr-10\n",
       " 122-results-4-Keith_volt,time,Keith_curr-10\n",
       " 123-results-5-Keith_volt,time,Keith_curr-10,\n",
       " demotest#my best sample#12@./experiments.db\n",
       " -------------------------------------------\n",
       " 124-results-1-Keith_volt,time,Keith_curr-7\n",
       " 125-results-2-Keith_volt,time,Keith_curr-5\n",
       " 126-results-3-Keith_volt,time,Keith_curr-15\n",
       " 127-results-4-Keith_volt,time,Keith_curr-100\n",
       " 128-results-5-Keith_volt,time,Keith_curr-6\n",
       " 129-results-6-Keith_volt,time,Keith_curr-20\n",
       " 130-results-7-Keith_volt,time,Keith_curr-100\n",
       " 131-results-8-Keith_volt,time,Keith_curr-10\n",
       " 132-results-9-Keith_volt,time,Keith_curr-7\n",
       " 133-results-10-Keith_volt,time,Keith_curr-10\n",
       " 134-results-11-Keith_volt,time,Keith_curr-10,\n",
       " old_data_loading#no_sample#13@./experiments.db\n",
       " ----------------------------------------------\n",
       " 135-results-1-None-0\n",
       " 136-results-2-None-0\n",
       " 137-results-3-None-0,\n",
       " old_data_loading#no_sample#14@./experiments.db\n",
       " ----------------------------------------------,\n",
       " old_data_loading#no_sample#15@./experiments.db\n",
       " ----------------------------------------------,\n",
       " demotest2#my best sample2#16@./experiments.db\n",
       " ---------------------------------------------\n",
       " 138-results-1-Keith_volt,time,Keith_curr-5,\n",
       " demotest3#my best sample3#17@./experiments.db\n",
       " ---------------------------------------------\n",
       " 139-results-1-Keith_volt,time,Keith_curr-4\n",
       " 140-results-2-None-0\n",
       " 141-results-3-None-0,\n",
       " demotest3#my best sample3#18@./experiments.db\n",
       " ---------------------------------------------\n",
       " 142-results-1-Keith_volt,time,Keith_curr-10]"
      ]
     },
     "execution_count": 7,
     "metadata": {},
     "output_type": "execute_result"
    }
   ],
   "source": [
    "qc.dataset.experiment_container.experiments()"
   ]
  },
  {
   "cell_type": "code",
   "execution_count": 8,
   "metadata": {},
   "outputs": [],
   "source": [
    "ex = qc.dataset.experiment_container.load_experiment(10)"
   ]
  },
  {
   "cell_type": "code",
   "execution_count": 24,
   "metadata": {},
   "outputs": [],
   "source": [
    "from qcodes.dataset.data_export import get_data_by_id \n",
    "fii = get_data_by_id(ex.data_sets()[2].run_id)"
   ]
  },
  {
   "cell_type": "code",
   "execution_count": 25,
   "metadata": {},
   "outputs": [
    {
     "data": {
      "text/plain": [
       "[[{'name': 'dac_ch1',\n",
       "   'label': 'Gate ch1',\n",
       "   'unit': 'V',\n",
       "   'data': array([  0.        ,   2.77777778,   5.55555556,   8.33333333,\n",
       "           11.11111111,  13.88888889,  16.66666667,  19.44444444,\n",
       "           22.22222222,  25.        ])},\n",
       "  {'name': 'time',\n",
       "   'label': 'Time',\n",
       "   'unit': 's',\n",
       "   'data': array([  0.   ,   1.438,   2.641,   3.828,   5.016,   6.203,   7.391,\n",
       "            8.594,   9.813,  11.   ])},\n",
       "  {'name': 'Keith_curr',\n",
       "   'label': 'Current',\n",
       "   'unit': 'A',\n",
       "   'data': array([  9.85979200e-07,   9.85890800e-07,   9.85876700e-07,\n",
       "            9.85872000e-07,   9.85877500e-07,   9.85861900e-07,\n",
       "            9.85862400e-07,   9.85868000e-07,   9.85825400e-07,\n",
       "            9.85881000e-07])}]]"
      ]
     },
     "execution_count": 25,
     "metadata": {},
     "output_type": "execute_result"
    }
   ],
   "source": [
    "fii"
   ]
  },
  {
   "cell_type": "code",
   "execution_count": 52,
   "metadata": {},
   "outputs": [
    {
     "data": {
      "text/plain": [
       "array([  0.   ,   1.438,   2.641,   3.828,   5.016,   6.203,   7.391,\n",
       "         8.594,   9.813,  11.   ])"
      ]
     },
     "execution_count": 52,
     "metadata": {},
     "output_type": "execute_result"
    }
   ],
   "source": [
    "fii[0][1]['data']"
   ]
  },
  {
   "cell_type": "code",
   "execution_count": null,
   "metadata": {},
   "outputs": [],
   "source": []
  }
 ],
 "metadata": {
  "kernelspec": {
   "display_name": "Python 3",
   "language": "python",
   "name": "python3"
  },
  "language_info": {
   "codemirror_mode": {
    "name": "ipython",
    "version": 3
   },
   "file_extension": ".py",
   "mimetype": "text/x-python",
   "name": "python",
   "nbconvert_exporter": "python",
   "pygments_lexer": "ipython3",
   "version": "3.6.8"
  }
 },
 "nbformat": 4,
 "nbformat_minor": 2
}
