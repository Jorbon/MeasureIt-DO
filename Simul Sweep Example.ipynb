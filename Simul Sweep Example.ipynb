{
 "cells": [
  {
   "cell_type": "markdown",
   "metadata": {},
   "source": [
    "# Basic Script for Sweeping Multiple Parameters Together (i.e., displacement field)"
   ]
  },
  {
   "cell_type": "markdown",
   "metadata": {},
   "source": [
    "## This block of code must be run- it imports all the relevant libraries and packages"
   ]
  },
  {
   "cell_type": "code",
   "execution_count": 2,
   "metadata": {},
   "outputs": [],
   "source": [
    "import src\n",
    "from src.simul_sweep import SimulSweep\n",
    "from src.daq_driver import Daq\n",
    "import nidaqmx\n",
    "import time\n",
    "import numpy as np\n",
    "import qcodes as qc\n",
    "from qcodes import initialise_or_create_database_at, load_by_run_spec\n",
    "from qcodes import Station\n",
    "from qcodes.instrument_drivers.Lakeshore.Model_372 import Model_372\n",
    "from qcodes.instrument_drivers.american_magnetics.AMI430 import AMI430\n",
    "from qcodes.instrument_drivers.stanford_research.SR860 import SR860\n",
    "from qcodes.tests.instrument_mocks import DummyInstrument"
   ]
  },
  {
   "cell_type": "markdown",
   "metadata": {},
   "source": [
    "## Create our dummy instruments for this example"
   ]
  },
  {
   "cell_type": "code",
   "execution_count": 3,
   "metadata": {},
   "outputs": [],
   "source": [
    "dummy1 = DummyInstrument(\"dummy1\")\n",
    "dummy2 = DummyInstrument(\"dummy2\")"
   ]
  },
  {
   "cell_type": "markdown",
   "metadata": {},
   "source": [
    "## Create your sweep object here! \n",
    "### For the simul sweep, we need to define two different set_param's, each with the same number of data points"
   ]
  },
  {
   "cell_type": "code",
   "execution_count": 4,
   "metadata": {},
   "outputs": [],
   "source": [
    "parameter_dict = {\n",
    "    dummy1.dac1 : {'start' : 0, 'stop' : 10, 'step' : 0.5},\n",
    "    dummy1.dac2 : {'start' : 10, 'stop' : 20, 'step': 0.5},\n",
    "    dummy1.dac3 : {'start' : 0, 'stop' : 20, 'step' : 1}\n",
    "}"
   ]
  },
  {
   "cell_type": "code",
   "execution_count": 5,
   "metadata": {},
   "outputs": [],
   "source": [
    "sweep = SimulSweep(parameter_dict, inter_delay = 0.5, save_data = False, bidirectional = True,\n",
    "            plot_data = True, plot_bin=1)"
   ]
  },
  {
   "cell_type": "markdown",
   "metadata": {},
   "source": [
    "## Tell the sweep which other parameters to track during the sweep. Here, we have added the temperature and a couple DAQ channels"
   ]
  },
  {
   "cell_type": "code",
   "execution_count": 6,
   "metadata": {},
   "outputs": [],
   "source": [
    "sweep.follow_param(dummy2.dac1)"
   ]
  },
  {
   "cell_type": "markdown",
   "metadata": {},
   "source": [
    "## Now, we initialize/create the database we are saving to (if you want to save data)\n",
    "## You can run this code between each run to give the data identifiers through *exp_name* and *sample_name*"
   ]
  },
  {
   "cell_type": "code",
   "execution_count": null,
   "metadata": {},
   "outputs": [],
   "source": [
    "try:\n",
    "    # Make sure database_name and the path are set to the correct values!\n",
    "    database_name = \"temp.db\"\n",
    "    exp_name = \"Example experiment- Magnetic field dependence\"\n",
    "    sample_name = \"Example sample- Sweep field_Gain=10^6_T=10mK_Vg=3V_measure I12_float others\"\n",
    "    init_database(database_name, exp_name, sample_name, s)\n",
    "except:\n",
    "    print(\"Error opening database\")"
   ]
  },
  {
   "cell_type": "markdown",
   "metadata": {},
   "source": [
    "## Now, we can start the sweep! This will automatically start data collection, plotting, saving, etc"
   ]
  },
  {
   "cell_type": "code",
   "execution_count": 7,
   "metadata": {},
   "outputs": [
    {
     "name": "stdout",
     "output_type": "stream",
     "text": [
      "Ramping to our starting setpoint value of 0 V\n",
      "Done ramping Gate dac1 to 0\n",
      "Sweeping Gate dac1 to 10 V\n"
     ]
    }
   ],
   "source": [
    "%matplotlib qt\n",
    "sweep.start()"
   ]
  },
  {
   "cell_type": "markdown",
   "metadata": {},
   "source": [
    "### To stop the sweep, run the stop command below. To restart it, you can run the start command from above again."
   ]
  },
  {
   "cell_type": "code",
   "execution_count": 7,
   "metadata": {},
   "outputs": [],
   "source": [
    "sweep.stop()"
   ]
  },
  {
   "cell_type": "code",
   "execution_count": 7,
   "metadata": {},
   "outputs": [
    {
     "data": {
      "text/plain": [
       "False"
      ]
     },
     "execution_count": 7,
     "metadata": {},
     "output_type": "execute_result"
    }
   ],
   "source": [
    "sweep.is_running"
   ]
  },
  {
   "cell_type": "code",
   "execution_count": 8,
   "metadata": {},
   "outputs": [],
   "source": [
    "sweep.kill()"
   ]
  },
  {
   "cell_type": "code",
   "execution_count": 9,
   "metadata": {},
   "outputs": [
    {
     "data": {
      "text/plain": [
       "{<qcodes.instrument.parameter.Parameter: dac1 at 2173463179504>: {'start': 0,\n",
       "  'stop': 10,\n",
       "  'step': 0.5,\n",
       "  'setpoint': 10.0},\n",
       " <qcodes.instrument.parameter.Parameter: dac2 at 2173463179728>: {'start': 10,\n",
       "  'stop': 20,\n",
       "  'step': 0.5,\n",
       "  'setpoint': 20.0},\n",
       " <qcodes.instrument.parameter.Parameter: dac3 at 2173576301704>: {'start': 0,\n",
       "  'stop': 20,\n",
       "  'step': 1,\n",
       "  'setpoint': 20}}"
      ]
     },
     "execution_count": 9,
     "metadata": {},
     "output_type": "execute_result"
    }
   ],
   "source": [
    "sweep.set_params_dict"
   ]
  },
  {
   "cell_type": "code",
   "execution_count": 10,
   "metadata": {},
   "outputs": [
    {
     "ename": "KeyError",
     "evalue": "'end'",
     "output_type": "error",
     "traceback": [
      "\u001B[1;31m---------------------------------------------------------------------------\u001B[0m",
      "\u001B[1;31mKeyError\u001B[0m                                  Traceback (most recent call last)",
      "\u001B[1;32m<ipython-input-10-e9fa2c06967e>\u001B[0m in \u001B[0;36m<module>\u001B[1;34m\u001B[0m\n\u001B[1;32m----> 1\u001B[1;33m \u001B[0msweep\u001B[0m\u001B[1;33m.\u001B[0m\u001B[0mflip_direction\u001B[0m\u001B[1;33m(\u001B[0m\u001B[1;33m)\u001B[0m\u001B[1;33m\u001B[0m\u001B[1;33m\u001B[0m\u001B[0m\n\u001B[0m",
      "\u001B[1;32m~\\MeasureIt\\src\\simul_sweep.py\u001B[0m in \u001B[0;36mflip_direction\u001B[1;34m(self)\u001B[0m\n\u001B[0;32m    129\u001B[0m         \u001B[1;32mfor\u001B[0m \u001B[0mp\u001B[0m\u001B[1;33m,\u001B[0m \u001B[0mv\u001B[0m \u001B[1;32min\u001B[0m \u001B[0mself\u001B[0m\u001B[1;33m.\u001B[0m\u001B[0mset_params_dict\u001B[0m\u001B[1;33m.\u001B[0m\u001B[0mitems\u001B[0m\u001B[1;33m(\u001B[0m\u001B[1;33m)\u001B[0m\u001B[1;33m:\u001B[0m\u001B[1;33m\u001B[0m\u001B[1;33m\u001B[0m\u001B[0m\n\u001B[0;32m    130\u001B[0m             \u001B[0mtemp\u001B[0m \u001B[1;33m=\u001B[0m \u001B[0mv\u001B[0m\u001B[1;33m[\u001B[0m\u001B[1;34m'start'\u001B[0m\u001B[1;33m]\u001B[0m\u001B[1;33m\u001B[0m\u001B[1;33m\u001B[0m\u001B[0m\n\u001B[1;32m--> 131\u001B[1;33m             \u001B[0mv\u001B[0m\u001B[1;33m[\u001B[0m\u001B[1;34m'start'\u001B[0m\u001B[1;33m]\u001B[0m \u001B[1;33m=\u001B[0m \u001B[0mv\u001B[0m\u001B[1;33m[\u001B[0m\u001B[1;34m'end'\u001B[0m\u001B[1;33m]\u001B[0m\u001B[1;33m\u001B[0m\u001B[1;33m\u001B[0m\u001B[0m\n\u001B[0m\u001B[0;32m    132\u001B[0m             \u001B[0mv\u001B[0m\u001B[1;33m[\u001B[0m\u001B[1;34m'end'\u001B[0m\u001B[1;33m]\u001B[0m \u001B[1;33m=\u001B[0m \u001B[0mtemp\u001B[0m\u001B[1;33m\u001B[0m\u001B[1;33m\u001B[0m\u001B[0m\n\u001B[0;32m    133\u001B[0m             \u001B[0mv\u001B[0m\u001B[1;33m[\u001B[0m\u001B[1;34m'step'\u001B[0m\u001B[1;33m]\u001B[0m \u001B[1;33m=\u001B[0m \u001B[1;33m-\u001B[0m\u001B[1;36m1\u001B[0m \u001B[1;33m*\u001B[0m \u001B[0mv\u001B[0m\u001B[1;33m[\u001B[0m\u001B[1;34m'step'\u001B[0m\u001B[1;33m]\u001B[0m\u001B[1;33m\u001B[0m\u001B[1;33m\u001B[0m\u001B[0m\n",
      "\u001B[1;31mKeyError\u001B[0m: 'end'"
     ]
    }
   ],
   "source": [
    "sweep.flip_direction()"
   ]
  },
  {
   "cell_type": "code",
   "execution_count": null,
   "metadata": {},
   "outputs": [],
   "source": []
  }
 ],
 "metadata": {
  "kernelspec": {
   "name": "pycharm-18777ac3",
   "language": "python",
   "display_name": "PyCharm (MeasureIt)"
  },
  "language_info": {
   "codemirror_mode": {
    "name": "ipython",
    "version": 3
   },
   "file_extension": ".py",
   "mimetype": "text/x-python",
   "name": "python",
   "nbconvert_exporter": "python",
   "pygments_lexer": "ipython3",
   "version": "3.6.8"
  }
 },
 "nbformat": 4,
 "nbformat_minor": 4
}