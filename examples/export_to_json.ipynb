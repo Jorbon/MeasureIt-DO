{
 "cells": [
  {
   "cell_type": "code",
   "execution_count": 1,
   "metadata": {},
   "outputs": [],
   "source": [
    "import src\n",
    "from src.base_sweep import BaseSweep\n",
    "from src.sweep0d import Sweep0D\n",
    "from src.sweep1d import Sweep1D\n",
    "from src.sweep2d import Sweep2D\n",
    "from src.daq_driver import Daq, DaqAOChannel, DaqAIChannel\n",
    "from src.util import init_database\n",
    "from src.tracking import *\n",
    "import nidaqmx\n",
    "import time, os\n",
    "import numpy as np\n",
    "import qcodes as qc\n",
    "from qcodes import Station\n",
    "from qcodes.dataset.measurements import Measurement\n",
    "from qcodes import initialise_or_create_database_at, load_or_create_experiment, load_by_run_spec\n",
    "from qcodes.dataset.data_export import get_data_by_id\n",
    "from qcodes.instrument_drivers.Lakeshore.Model_372 import Model_372\n",
    "from qcodes.instrument_drivers.american_magnetics.AMI430 import AMI430\n",
    "from qcodes.instrument_drivers.stanford_research.SR860 import SR860\n",
    "from qcodes.tests.instrument_mocks import DummyInstrument"
   ]
  },
  {
   "cell_type": "code",
   "execution_count": 2,
   "metadata": {},
   "outputs": [],
   "source": [
    "dummy = DummyInstrument(\"d1\")"
   ]
  },
  {
   "cell_type": "code",
   "execution_count": 3,
   "metadata": {},
   "outputs": [
    {
     "data": {
      "text/plain": [
       "'d1'"
      ]
     },
     "execution_count": 3,
     "metadata": {},
     "output_type": "execute_result"
    }
   ],
   "source": [
    "station = Station()\n",
    "station.add_component(dummy)"
   ]
  },
  {
   "cell_type": "code",
   "execution_count": 4,
   "metadata": {},
   "outputs": [],
   "source": [
    "sweep = Sweep1D(dummy.dac1, 0, 5, 0.05, inter_delay = 0.1, bidirectional = True, save_data = True, \n",
    "            plot_data = True, x_axis_time = 1, plot_bin=1, continual=False)\n",
    "sweep.follow_param(dummy.dac2, dummy.dac3)"
   ]
  },
  {
   "cell_type": "code",
   "execution_count": 5,
   "metadata": {},
   "outputs": [],
   "source": [
    "s0 = Sweep0D(max_time=10, plot_bin = 1, save_data=True, plot_data=True)\n",
    "s0.follow_param(dummy.dac2, dummy.dac3)"
   ]
  },
  {
   "cell_type": "code",
   "execution_count": 6,
   "metadata": {},
   "outputs": [
    {
     "data": {
      "text/plain": [
       "{'type': 'Sweep0D',\n",
       " 'module': 'src.sweep0d',\n",
       " 'attributes': {'inter_delay': 0.01,\n",
       "  'save_data': True,\n",
       "  'plot_data': True,\n",
       "  'plot_bin': 1,\n",
       "  'max_time': 10},\n",
       " 'set_param': None,\n",
       " 'follow_params': {'dac2': ('d1',\n",
       "   'qcodes.tests.instrument_mocks',\n",
       "   'DummyInstrument'),\n",
       "  'dac3': ('d1', 'qcodes.tests.instrument_mocks', 'DummyInstrument')}}"
      ]
     },
     "execution_count": 6,
     "metadata": {},
     "output_type": "execute_result"
    }
   ],
   "source": [
    "fn=f\"{os.environ['MeasureItHome']}\\\\Experiments\\\\test2.json\"\n",
    "s0.export_json(fn)"
   ]
  },
  {
   "cell_type": "code",
   "execution_count": 9,
   "metadata": {},
   "outputs": [],
   "source": [
    "s = BaseSweep.init_from_json(fn, station)"
   ]
  },
  {
   "cell_type": "code",
   "execution_count": 15,
   "metadata": {},
   "outputs": [
    {
     "data": {
      "text/plain": [
       "[<qcodes.instrument.parameter.Parameter: dac2 at 2407345898384>,\n",
       " <qcodes.instrument.parameter.Parameter: dac3 at 2407345898608>]"
      ]
     },
     "execution_count": 15,
     "metadata": {},
     "output_type": "execute_result"
    }
   ],
   "source": [
    "s._params"
   ]
  },
  {
   "cell_type": "code",
   "execution_count": 14,
   "metadata": {},
   "outputs": [
    {
     "data": {
      "text/plain": [
       "{'d1': {'functions': {},\n",
       "  'submodules': {},\n",
       "  '__class__': 'qcodes.tests.instrument_mocks.DummyInstrument',\n",
       "  'parameters': {'IDN': {'value': {'vendor': None,\n",
       "     'model': 'd1',\n",
       "     'serial': None,\n",
       "     'firmware': None},\n",
       "    'raw_value': {'vendor': None,\n",
       "     'model': 'd1',\n",
       "     'serial': None,\n",
       "     'firmware': None},\n",
       "    'ts': '2020-06-02 21:34:16',\n",
       "    '__class__': 'qcodes.instrument.parameter.Parameter',\n",
       "    'full_name': 'd1_IDN',\n",
       "    'instrument': 'qcodes.tests.instrument_mocks.DummyInstrument',\n",
       "    'instrument_name': 'd1',\n",
       "    'vals': '<Anything>',\n",
       "    'unit': '',\n",
       "    'label': 'IDN',\n",
       "    'name': 'IDN',\n",
       "    'inter_delay': 0,\n",
       "    'post_delay': 0},\n",
       "   'dac1': {'value': 0,\n",
       "    'raw_value': 0,\n",
       "    'ts': '2020-06-02 21:34:16',\n",
       "    '__class__': 'qcodes.instrument.parameter.Parameter',\n",
       "    'full_name': 'd1_dac1',\n",
       "    'instrument': 'qcodes.tests.instrument_mocks.DummyInstrument',\n",
       "    'instrument_name': 'd1',\n",
       "    'vals': '<Numbers -800<=v<=400>',\n",
       "    'unit': 'V',\n",
       "    'label': 'Gate dac1',\n",
       "    'name': 'dac1',\n",
       "    'inter_delay': 0,\n",
       "    'post_delay': 0},\n",
       "   'dac2': {'value': 0,\n",
       "    'raw_value': 0,\n",
       "    'ts': '2020-06-02 21:34:16',\n",
       "    '__class__': 'qcodes.instrument.parameter.Parameter',\n",
       "    'full_name': 'd1_dac2',\n",
       "    'instrument': 'qcodes.tests.instrument_mocks.DummyInstrument',\n",
       "    'instrument_name': 'd1',\n",
       "    'vals': '<Numbers -800<=v<=400>',\n",
       "    'unit': 'V',\n",
       "    'label': 'Gate dac2',\n",
       "    'name': 'dac2',\n",
       "    'inter_delay': 0,\n",
       "    'post_delay': 0},\n",
       "   'dac3': {'value': 0,\n",
       "    'raw_value': 0,\n",
       "    'ts': '2020-06-02 21:34:16',\n",
       "    '__class__': 'qcodes.instrument.parameter.Parameter',\n",
       "    'full_name': 'd1_dac3',\n",
       "    'instrument': 'qcodes.tests.instrument_mocks.DummyInstrument',\n",
       "    'instrument_name': 'd1',\n",
       "    'vals': '<Numbers -800<=v<=400>',\n",
       "    'unit': 'V',\n",
       "    'label': 'Gate dac3',\n",
       "    'name': 'dac3',\n",
       "    'inter_delay': 0,\n",
       "    'post_delay': 0}},\n",
       "  'name': 'd1'}}"
      ]
     },
     "execution_count": 14,
     "metadata": {},
     "output_type": "execute_result"
    }
   ],
   "source": [
    "station.snapshot()['instruments']"
   ]
  },
  {
   "cell_type": "code",
   "execution_count": null,
   "metadata": {},
   "outputs": [],
   "source": []
  }
 ],
 "metadata": {
  "kernelspec": {
   "display_name": "Python 3",
   "language": "python",
   "name": "python3"
  },
  "language_info": {
   "codemirror_mode": {
    "name": "ipython",
    "version": 3
   },
   "file_extension": ".py",
   "mimetype": "text/x-python",
   "name": "python",
   "nbconvert_exporter": "python",
   "pygments_lexer": "ipython3",
   "version": "3.6.8"
  }
 },
 "nbformat": 4,
 "nbformat_minor": 4
}
