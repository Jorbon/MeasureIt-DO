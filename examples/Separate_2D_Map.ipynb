{
 "cells": [
  {
   "cell_type": "markdown",
   "id": "b03e5c68-0e8d-4d5b-9731-f9a4d7d5fcd4",
   "metadata": {},
   "source": [
    "# Separate a 2D Map"
   ]
  },
  {
   "cell_type": "markdown",
   "id": "0b4b8fa6-8b6b-4b45-a4a0-07029c0524d8",
   "metadata": {},
   "source": [
    "## Separates a 2D map CSV into separate files for forward and backward sweeps"
   ]
  },
  {
   "cell_type": "code",
   "execution_count": 3,
   "id": "5c4bf82c-fa41-4d2e-9e8b-f7b07cf649f6",
   "metadata": {},
   "outputs": [],
   "source": [
    "import pandas as pd"
   ]
  },
  {
   "cell_type": "markdown",
   "id": "e7d3bbf0-bc6b-4205-9727-2fa1ad1897bf",
   "metadata": {},
   "source": [
    "### Set your path and filename for the csv"
   ]
  },
  {
   "cell_type": "code",
   "execution_count": 4,
   "id": "ab53438a-6b79-4bc7-8d28-3eba6ff2553a",
   "metadata": {},
   "outputs": [],
   "source": [
    "path = \"Z:\\\\google-drive\\\\WTe2\\\\Raw Data\\\\2022-01-11 BWX\\\\\"\n",
    "fn = \"777_Gate map_Bx=1T_I6-12=10nAac_T=100mK_gainI=1e7_gainVxx=1_gainVxy=1e2_float others\"\n",
    "ext = \".csv\""
   ]
  },
  {
   "cell_type": "markdown",
   "id": "1c7fa9e9-76d1-4357-930b-222dffefaa0c",
   "metadata": {},
   "source": [
    "### Load in your data"
   ]
  },
  {
   "cell_type": "code",
   "execution_count": 5,
   "id": "63f79063-c6d4-443d-a884-d8a8c2bd09d5",
   "metadata": {},
   "outputs": [],
   "source": [
    "filename = path+fn+ext\n",
    "\n",
    "df = pd.read_csv(filename)"
   ]
  },
  {
   "cell_type": "markdown",
   "id": "824de5a2-b63b-460d-a902-78e2d1fa6d32",
   "metadata": {},
   "source": [
    "### Figure out how long our forward/backward sweeps are"
   ]
  },
  {
   "cell_type": "code",
   "execution_count": 6,
   "id": "b16191f1-d84c-45ce-8fdb-f82810d132d8",
   "metadata": {},
   "outputs": [
    {
     "name": "stdout",
     "output_type": "stream",
     "text": [
      "Length of forward lines: 126\n",
      "Length of backward lines: 126\n",
      "Total length of lines: 252\n",
      "Total number of lines: 126\n"
     ]
    }
   ],
   "source": [
    "sweep_param = df.columns[0]\n",
    "\n",
    "fwd_line_width = 0\n",
    "bwd_line_width = 0\n",
    "\n",
    "index = 0\n",
    "while df[sweep_param][index] < df[sweep_param][index+1]:\n",
    "    index += 1\n",
    "\n",
    "index += 1\n",
    "fwd_line_width = index\n",
    "\n",
    "while df[sweep_param][index] > df[sweep_param][index+1]:\n",
    "    index += 1\n",
    "    \n",
    "bwd_line_width = index+1-fwd_line_width\n",
    "line_width = bwd_line_width+fwd_line_width\n",
    "n_lines = int(len(df[sweep_param])/line_width)\n",
    "\n",
    "print(f'Length of forward lines: {fwd_line_width}')\n",
    "print(f'Length of backward lines: {bwd_line_width}')\n",
    "print(f'Total length of lines: {line_width}')\n",
    "print(f'Total number of lines: {n_lines}')"
   ]
  },
  {
   "cell_type": "markdown",
   "id": "049066c0-0aaa-4a49-afb6-0c3e5be1c4fb",
   "metadata": {},
   "source": [
    "### Separate the forward and backward data"
   ]
  },
  {
   "cell_type": "code",
   "execution_count": 7,
   "id": "f3b18ad6-8035-4a63-8b7a-82c000300b55",
   "metadata": {},
   "outputs": [],
   "source": [
    "fwd_df = pd.DataFrame()\n",
    "bwd_df = pd.DataFrame()\n",
    "\n",
    "for n in range(n_lines):\n",
    "    fwd_df = fwd_df.append(df.iloc[n*line_width:n*line_width+fwd_line_width])\n",
    "    bwd_df = bwd_df.append(df.iloc[n*line_width+fwd_line_width:n*line_width+fwd_line_width+bwd_line_width])"
   ]
  },
  {
   "cell_type": "markdown",
   "id": "979510a5-62d5-463d-9274-fb6b275c1456",
   "metadata": {},
   "source": [
    "### Save the separated data to new csv files"
   ]
  },
  {
   "cell_type": "code",
   "execution_count": 8,
   "id": "c1e7b6f6-bfaf-4fb3-8aa7-9a946c8dcc90",
   "metadata": {},
   "outputs": [],
   "source": [
    "fwd_fn = fn+'_fwd'+ext\n",
    "bwd_fn = fn+'_bwd'+ext\n",
    "\n",
    "fwd_df.to_csv(path+fwd_fn, index=False)\n",
    "bwd_df.to_csv(path+bwd_fn, index=False)"
   ]
  },
  {
   "cell_type": "code",
   "execution_count": null,
   "id": "e71a70de-8ee6-4a7b-92fd-b5e3a9e3f14b",
   "metadata": {},
   "outputs": [],
   "source": []
  }
 ],
 "metadata": {
  "kernelspec": {
   "display_name": "Python 3 (ipykernel)",
   "language": "python",
   "name": "python3"
  },
  "language_info": {
   "codemirror_mode": {
    "name": "ipython",
    "version": 3
   },
   "file_extension": ".py",
   "mimetype": "text/x-python",
   "name": "python",
   "nbconvert_exporter": "python",
   "pygments_lexer": "ipython3",
   "version": "3.9.9"
  }
 },
 "nbformat": 4,
 "nbformat_minor": 5
}
