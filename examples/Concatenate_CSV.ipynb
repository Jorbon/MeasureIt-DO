{
 "cells": [
  {
   "cell_type": "markdown",
   "id": "93ceec23-b036-4081-a238-6710c7a44bf3",
   "metadata": {},
   "source": [
    "# Concatenate CSV files"
   ]
  },
  {
   "cell_type": "markdown",
   "id": "8dcaa5a8-ac27-4fd9-a56b-0ed722054d3d",
   "metadata": {},
   "source": [
    "## Reads all the CSV files from one folder, deciphers any parameters saved into the filenames, and saves it as one large .csv file, adding in any desired parameters from the filename"
   ]
  },
  {
   "cell_type": "code",
   "execution_count": 1,
   "id": "c9663e02-78bf-4f1c-b44e-8ada9f65ea27",
   "metadata": {},
   "outputs": [],
   "source": [
    "import pandas as pd\n",
    "import glob\n",
    "import re"
   ]
  },
  {
   "cell_type": "markdown",
   "id": "c384c1b9-abb6-47a9-a6b9-4ee02916df69",
   "metadata": {},
   "source": [
    "### Define the parameters you want to read from the filename and the delimeters between parameters, and their values"
   ]
  },
  {
   "cell_type": "code",
   "execution_count": 3,
   "id": "93dff92a-d614-4a38-9897-b2065d4fba82",
   "metadata": {},
   "outputs": [],
   "source": [
    "OUTER_PARAM_FILENAME_STRINGS = []\n",
    "OUTER_PARAM_END_CHAR = \"_\"\n",
    "OUTER_PARAM_VAL_SEP_CHAR = \"=\"\n",
    "OUTER_PARAM_NEW_COL_NAMES = []"
   ]
  },
  {
   "cell_type": "markdown",
   "id": "14410af4-5029-4157-a44b-5c121f2f7a56",
   "metadata": {},
   "source": [
    "### Set the path to the folder containing the files as well as the final output filename"
   ]
  },
  {
   "cell_type": "code",
   "execution_count": 4,
   "id": "91f110b2-4b5a-483a-8c55-c8546ac2167f",
   "metadata": {},
   "outputs": [],
   "source": [
    "# Path and filenames\n",
    "path = 'Z:\\\\google-drive\\\\WTe2\\\\Raw Data\\\\2022-01-11 BWX\\\\n-D 2term\\\\'\n",
    "outputName = 'n-D sweeps_V6-12=100uVac_T=100mK_gainI=1e8_ground others'"
   ]
  },
  {
   "cell_type": "markdown",
   "id": "e098ccca-8177-4ac2-a9cd-1a7d12e27633",
   "metadata": {},
   "source": [
    "### Find all the files"
   ]
  },
  {
   "cell_type": "code",
   "execution_count": 5,
   "id": "e98467db-85a8-40d5-8bfa-5f8ef0cbf506",
   "metadata": {},
   "outputs": [
    {
     "name": "stdout",
     "output_type": "stream",
     "text": [
      "Found 101 files...\n"
     ]
    }
   ],
   "source": [
    "# Read all the filenames in the folder\n",
    "allFiles = [fn.replace(path, '') for fn in list(filter(lambda name: not re.findall(outputName, name), glob.glob(path + \"*.csv\")))]\n",
    "print(f\"Found {len(allFiles)} files...\")"
   ]
  },
  {
   "cell_type": "markdown",
   "id": "2825897b-0767-4b1b-91c1-6f7f1d7eba1d",
   "metadata": {},
   "source": [
    "### Create a dictionary containing the parameters stored in each filename"
   ]
  },
  {
   "cell_type": "code",
   "execution_count": 6,
   "id": "c56ed53b-29e2-408d-b825-39edb58feddc",
   "metadata": {},
   "outputs": [
    {
     "name": "stdout",
     "output_type": "stream",
     "text": [
      "Found a new parameter key: dV\n",
      "Found a new parameter key: V6-10\n",
      "Found a new parameter key: T\n",
      "Found a new parameter key: gainI\n"
     ]
    }
   ],
   "source": [
    "# Grab the params that live in the filenames\n",
    "file_dict = {}\n",
    "p_keys = []\n",
    "for fn in allFiles:\n",
    "    file_dict[fn] = {}\n",
    "    fn_params = fn.split(OUTER_PARAM_END_CHAR)\n",
    "    for _p in fn_params:\n",
    "        if OUTER_PARAM_VAL_SEP_CHAR in _p:\n",
    "            [p, v] = _p.split(OUTER_PARAM_VAL_SEP_CHAR)\n",
    "            file_dict[fn][p]=v\n",
    "            \n",
    "            if p not in p_keys:\n",
    "                p_keys.append(p)\n",
    "                print(f\"Found a new parameter key: {p}\")"
   ]
  },
  {
   "cell_type": "markdown",
   "id": "c226f5d2-466a-45b3-85d8-139791fe65e1",
   "metadata": {},
   "source": [
    "### Read each file, add in a column for each desired filename parameter, then concatenate all the files together"
   ]
  },
  {
   "cell_type": "code",
   "execution_count": 7,
   "id": "2bb3397a-a417-4fa1-8df3-3852ee92d65b",
   "metadata": {},
   "outputs": [
    {
     "name": "stdout",
     "output_type": "stream",
     "text": [
      "Wrote a concatenated data file at Z:\\google-drive\\WTe2\\Raw Data\\2022-01-11 BWX\\n-D 2term\\n-D sweeps_V6-12=100uVac_T=100mK_gainI=1e8_ground others.csv\n"
     ]
    }
   ],
   "source": [
    "# Create the DataFrames\n",
    "dataFrames = []\n",
    "\n",
    "for fn in allFiles:\n",
    "    df = pd.read_csv(path+fn)\n",
    "    \n",
    "    for p, name in zip(OUTER_PARAM_FILENAME_STRINGS, OUTER_PARAM_NEW_COL_NAMES):\n",
    "        if p not in file_dict[fn].keys():\n",
    "            print(f\"ERROR: Could not find start parameter {p} in filename {fn}. Aborting.\")\n",
    "        \n",
    "        outer_param = float(file_dict[fn][p])\n",
    "        new_col = [outer_param for i in range(len(df))]\n",
    "        df[name] = new_col\n",
    "    \n",
    "    dataFrames.append(df)\n",
    "\n",
    "singleFrame = pd.concat(dataFrames, axis=0, ignore_index=True)\n",
    "singleFrame.to_csv(path+outputName+'.csv', index=False)\n",
    "print(f\"Wrote a concatenated data file at {path+outputName+'.csv'}\")"
   ]
  },
  {
   "cell_type": "code",
   "execution_count": null,
   "id": "836aa2d2-dd19-4641-8dde-89ea14f46109",
   "metadata": {},
   "outputs": [],
   "source": []
  }
 ],
 "metadata": {
  "kernelspec": {
   "display_name": "Python 3 (ipykernel)",
   "language": "python",
   "name": "python3"
  },
  "language_info": {
   "codemirror_mode": {
    "name": "ipython",
    "version": 3
   },
   "file_extension": ".py",
   "mimetype": "text/x-python",
   "name": "python",
   "nbconvert_exporter": "python",
   "pygments_lexer": "ipython3",
   "version": "3.9.9"
  }
 },
 "nbformat": 4,
 "nbformat_minor": 5
}
