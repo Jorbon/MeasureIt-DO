{
 "cells": [
  {
   "cell_type": "code",
   "execution_count": 1,
   "metadata": {},
   "outputs": [
    {
     "name": "stderr",
     "output_type": "stream",
     "text": [
      "C:\\Users\\erunb\\Anaconda3\\envs\\qcodes\\lib\\site-packages\\qcodes\\dataset\\database.py:13: UserWarning: The module `qcodes.dataset.database` is deprecated.\n",
      "Public features are available at the import of `qcodes`.\n",
      "Private features are available in `qcodes.dataset.sqlite.*` modules.\n",
      "  warnings.warn('The module `qcodes.dataset.database` is deprecated.\\n'\n"
     ]
    }
   ],
   "source": [
    "from gate_leakage import GateLeakage \n",
    "from daq_driver import Daq, DaqAOChannel, DaqAIChannel\n",
    "import nidaqmx\n",
    "import time\n",
    "import numpy as np\n",
    "import qcodes as qc\n",
    "from util import init_database\n",
    "from tracking import *\n",
    "from qcodes.dataset.measurements import Measurement\n",
    "from qcodes.dataset.database import initialise_or_create_database_at\n",
    "from qcodes.dataset.data_export import get_data_by_id\n",
    "from qcodes.instrument_drivers.Lakeshore.Model_372 import Model_372\n",
    "from qcodes.instrument_drivers.american_magnetics.AMI430 import AMI430\n",
    "from qcodes.instrument_drivers.stanford_research.SR860 import SR860"
   ]
  },
  {
   "cell_type": "code",
   "execution_count": 2,
   "metadata": {},
   "outputs": [],
   "source": [
    "daq = Daq(\"Dev1\", \"Daq\")"
   ]
  },
  {
   "cell_type": "code",
   "execution_count": 13,
   "metadata": {},
   "outputs": [],
   "source": [
    "leakage = GateLeakage(daq.ao0.voltage, daq.ai0.voltage, 0.8, 0.05, inter_delay = 0.001, x_axis_time=0, save_data = False,plot_bin=20)"
   ]
  },
  {
   "cell_type": "code",
   "execution_count": 14,
   "metadata": {},
   "outputs": [
    {
     "name": "stdout",
     "output_type": "stream",
     "text": [
      "Sweeping ao0 Voltage to inf V\n",
      "Done with the sweep, ao0 Voltage=-1.3877787807814457e-17\n"
     ]
    }
   ],
   "source": [
    "%matplotlib qt\n",
    "leakage.start(ramp_to_start=False)"
   ]
  },
  {
   "cell_type": "code",
   "execution_count": null,
   "metadata": {},
   "outputs": [],
   "source": [
    "leakage.stop()"
   ]
  },
  {
   "cell_type": "code",
   "execution_count": null,
   "metadata": {},
   "outputs": [],
   "source": []
  }
 ],
 "metadata": {
  "kernelspec": {
   "display_name": "Python 3",
   "language": "python",
   "name": "python3"
  },
  "language_info": {
   "codemirror_mode": {
    "name": "ipython",
    "version": 3
   },
   "file_extension": ".py",
   "mimetype": "text/x-python",
   "name": "python",
   "nbconvert_exporter": "python",
   "pygments_lexer": "ipython3",
   "version": "3.6.8"
  }
 },
 "nbformat": 4,
 "nbformat_minor": 2
}
